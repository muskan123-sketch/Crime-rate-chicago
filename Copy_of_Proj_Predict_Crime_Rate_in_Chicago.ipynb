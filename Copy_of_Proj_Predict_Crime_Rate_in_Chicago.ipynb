{
  "nbformat": 4,
  "nbformat_minor": 0,
  "metadata": {
    "kernelspec": {
      "display_name": "Python 3",
      "language": "python",
      "name": "python3"
    },
    "language_info": {
      "codemirror_mode": {
        "name": "ipython",
        "version": 3
      },
      "file_extension": ".py",
      "mimetype": "text/x-python",
      "name": "python",
      "nbconvert_exporter": "python",
      "pygments_lexer": "ipython3",
      "version": "3.6.5"
    },
    "varInspector": {
      "cols": {
        "lenName": 16,
        "lenType": 16,
        "lenVar": 40
      },
      "kernels_config": {
        "python": {
          "delete_cmd_postfix": "",
          "delete_cmd_prefix": "del ",
          "library": "var_list.py",
          "varRefreshCmd": "print(var_dic_list())"
        },
        "r": {
          "delete_cmd_postfix": ") ",
          "delete_cmd_prefix": "rm(",
          "library": "var_list.r",
          "varRefreshCmd": "cat(var_dic_list()) "
        }
      },
      "types_to_exclude": [
        "module",
        "function",
        "builtin_function_or_method",
        "instance",
        "_Feature"
      ],
      "window_display": false
    },
    "colab": {
      "name": "Copy of Proj Predict Crime Rate in Chicago.ipynb",
      "provenance": [],
      "collapsed_sections": [],
      "include_colab_link": true
    }
  },
  "cells": [
    {
      "cell_type": "markdown",
      "metadata": {
        "id": "view-in-github",
        "colab_type": "text"
      },
      "source": [
        "<a href=\"https://colab.research.google.com/github/muskan123-sketch/Crime-rate-chicago/blob/main/Copy_of_Proj_Predict_Crime_Rate_in_Chicago.ipynb\" target=\"_parent\"><img src=\"https://colab.research.google.com/assets/colab-badge.svg\" alt=\"Open In Colab\"/></a>"
      ]
    },
    {
      "cell_type": "markdown",
      "metadata": {
        "id": "NJS37EAlvyKj"
      },
      "source": [
        "# PREDICTING CRIME RATE IN CHICAGO USING FACEBOOK PROPHET \n",
        "\n",
        "\n",
        "\n"
      ]
    },
    {
      "cell_type": "markdown",
      "metadata": {
        "id": "eV19ShzFvyLa"
      },
      "source": [
        "# STEP #0: PROBLEM STATEMENT"
      ]
    },
    {
      "cell_type": "markdown",
      "metadata": {
        "id": "eWNi3_x4vyLd"
      },
      "source": [
        "\n",
        "- The Chicago Crime dataset contains a summary of the reported crimes occurred in the City of Chicago from 2001 to 2017. \n",
        "- Dataset has been obtained from the Chicago Police Department's CLEAR (Citizen Law Enforcement Analysis and Reporting) system.\n",
        "- Dataset contains the following columns: \n",
        "    - ID: Unique identifier for the record.\n",
        "    - Case Number: The Chicago Police Department RD Number (Records Division Number), which is unique to the incident.\n",
        "    - Date: Date when the incident occurred.\n",
        "    - Block: address where the incident occurred\n",
        "    - IUCR: The Illinois Unifrom Crime Reporting code.\n",
        "    - Primary Type: The primary description of the IUCR code.\n",
        "    - Description: The secondary description of the IUCR code, a subcategory of the primary description.\n",
        "    - Location Description: Description of the location where the incident occurred.\n",
        "    - Arrest: Indicates whether an arrest was made.\n",
        "    - Domestic: Indicates whether the incident was domestic-related as defined by the Illinois Domestic Violence Act.\n",
        "    - Beat: Indicates the beat where the incident occurred. A beat is the smallest police geographic area – each beat has a dedicated police beat car. \n",
        "    - District: Indicates the police district where the incident occurred. \n",
        "    - Ward: The ward (City Council district) where the incident occurred. \n",
        "    - Community Area: Indicates the community area where the incident occurred. Chicago has 77 community areas. \n",
        "    - FBI Code: Indicates the crime classification as outlined in the FBI's National Incident-Based Reporting System (NIBRS). \n",
        "    - X Coordinate: The x coordinate of the location where the incident occurred in State Plane Illinois East NAD 1983 projection. \n",
        "    - Y Coordinate: The y coordinate of the location where the incident occurred in State Plane Illinois East NAD 1983 projection. \n",
        "    - Year: Year the incident occurred.\n",
        "    - Updated On: Date and time the record was last updated.\n",
        "    - Latitude: The latitude of the location where the incident occurred. This location is shifted from the actual location for partial redaction but falls on the same block.\n",
        "    - Longitude: The longitude of the location where the incident occurred. This location is shifted from the actual location for partial redaction but falls on the same block.\n",
        "    - Location: The location where the incident occurred in a format that allows for creation of maps and other geographic operations on this data portal. This location is shifted from the actual location for partial redaction but falls on the same block.\n"
      ]
    },
    {
      "cell_type": "markdown",
      "metadata": {
        "id": "9ddL3nKJvyLf"
      },
      "source": [
        "\n",
        "\n",
        "\n",
        "\n",
        "- Prophet is a procedure for forecasting time series data based on an additive model where non-linear trends are fit with yearly, weekly, and daily seasonality, plus holiday effects. \n",
        "\n",
        "- Prophet works best with time series that have strong seasonal effects and several seasons of historical data. \n",
        "\n",
        "\n"
      ]
    },
    {
      "cell_type": "markdown",
      "metadata": {
        "id": "FGrkY2_VvyLg"
      },
      "source": [
        "# STEP #1: IMPORTING DATA"
      ]
    },
    {
      "cell_type": "code",
      "metadata": {
        "id": "zDNavpjuvyLh",
        "colab": {
          "base_uri": "https://localhost:8080/"
        },
        "outputId": "6ce34e7b-9a0f-445a-dda5-02fe02a63cc7"
      },
      "source": [
        "!pip install fbprophet\n",
        "import pandas as pd \n",
        "import numpy as np \n",
        "import matplotlib.pyplot as plt\n",
        "import random\n",
        "import seaborn as sns\n",
        "from fbprophet import Prophet\n"
      ],
      "execution_count": null,
      "outputs": [
        {
          "output_type": "stream",
          "text": [
            "Requirement already satisfied: fbprophet in /usr/local/lib/python3.6/dist-packages (0.7.1)\n",
            "Requirement already satisfied: Cython>=0.22 in /usr/local/lib/python3.6/dist-packages (from fbprophet) (0.29.21)\n",
            "Requirement already satisfied: cmdstanpy==0.9.5 in /usr/local/lib/python3.6/dist-packages (from fbprophet) (0.9.5)\n",
            "Requirement already satisfied: pystan>=2.14 in /usr/local/lib/python3.6/dist-packages (from fbprophet) (2.19.1.1)\n",
            "Requirement already satisfied: numpy>=1.15.4 in /usr/local/lib/python3.6/dist-packages (from fbprophet) (1.19.4)\n",
            "Requirement already satisfied: pandas>=1.0.4 in /usr/local/lib/python3.6/dist-packages (from fbprophet) (1.1.5)\n",
            "Requirement already satisfied: matplotlib>=2.0.0 in /usr/local/lib/python3.6/dist-packages (from fbprophet) (3.2.2)\n",
            "Requirement already satisfied: LunarCalendar>=0.0.9 in /usr/local/lib/python3.6/dist-packages (from fbprophet) (0.0.9)\n",
            "Requirement already satisfied: convertdate>=2.1.2 in /usr/local/lib/python3.6/dist-packages (from fbprophet) (2.2.0)\n",
            "Requirement already satisfied: holidays>=0.10.2 in /usr/local/lib/python3.6/dist-packages (from fbprophet) (0.10.4)\n",
            "Requirement already satisfied: setuptools-git>=1.2 in /usr/local/lib/python3.6/dist-packages (from fbprophet) (1.2)\n",
            "Requirement already satisfied: python-dateutil>=2.8.0 in /usr/local/lib/python3.6/dist-packages (from fbprophet) (2.8.1)\n",
            "Requirement already satisfied: tqdm>=4.36.1 in /usr/local/lib/python3.6/dist-packages (from fbprophet) (4.41.1)\n",
            "Requirement already satisfied: pytz>=2017.2 in /usr/local/lib/python3.6/dist-packages (from pandas>=1.0.4->fbprophet) (2018.9)\n",
            "Requirement already satisfied: cycler>=0.10 in /usr/local/lib/python3.6/dist-packages (from matplotlib>=2.0.0->fbprophet) (0.10.0)\n",
            "Requirement already satisfied: pyparsing!=2.0.4,!=2.1.2,!=2.1.6,>=2.0.1 in /usr/local/lib/python3.6/dist-packages (from matplotlib>=2.0.0->fbprophet) (2.4.7)\n",
            "Requirement already satisfied: kiwisolver>=1.0.1 in /usr/local/lib/python3.6/dist-packages (from matplotlib>=2.0.0->fbprophet) (1.3.1)\n",
            "Requirement already satisfied: ephem>=3.7.5.3 in /usr/local/lib/python3.6/dist-packages (from LunarCalendar>=0.0.9->fbprophet) (3.7.7.1)\n",
            "Requirement already satisfied: pymeeus<=1,>=0.3.6 in /usr/local/lib/python3.6/dist-packages (from convertdate>=2.1.2->fbprophet) (0.3.7)\n",
            "Requirement already satisfied: six in /usr/local/lib/python3.6/dist-packages (from holidays>=0.10.2->fbprophet) (1.15.0)\n",
            "Requirement already satisfied: korean-lunar-calendar in /usr/local/lib/python3.6/dist-packages (from holidays>=0.10.2->fbprophet) (0.2.1)\n"
          ],
          "name": "stdout"
        }
      ]
    },
    {
      "cell_type": "code",
      "metadata": {
        "id": "2C24V-bRvyLl"
      },
      "source": [
        "# dataframes creation for both training and testing datasets \n",
        "chicago_df_1 = pd.read_csv('Chicago_Crimes_2005_to_2007.csv', error_bad_lines=False,header=0,parse_dates=[0])#to ignore the errors\n",
        "chicago_df_2 = pd.read_csv('Chicago_Crimes_2008_to_2011.csv', error_bad_lines=False,header=0,parse_dates=[0])\n",
        "chicago_df_3 = pd.read_csv('Chicago_Crimes_2012_to_2017.csv', error_bad_lines=False,header=0,parse_dates=[0])\n"
      ],
      "execution_count": null,
      "outputs": []
    },
    {
      "cell_type": "code",
      "metadata": {
        "colab": {
          "base_uri": "https://localhost:8080/"
        },
        "id": "WPZiZ4jv2dE5",
        "outputId": "ea08eef9-53bd-4cfc-f827-ecbcc0393c0b"
      },
      "source": [
        "chicago_df_1.shape"
      ],
      "execution_count": null,
      "outputs": [
        {
          "output_type": "execute_result",
          "data": {
            "text/plain": [
              "(334060, 23)"
            ]
          },
          "metadata": {
            "tags": []
          },
          "execution_count": 22
        }
      ]
    },
    {
      "cell_type": "code",
      "metadata": {
        "id": "0sQuXBrCvyLr"
      },
      "source": [
        "\n",
        "chicago_df = pd.concat([chicago_df_1, chicago_df_2, chicago_df_3])#concatinating the above dataframes\n"
      ],
      "execution_count": null,
      "outputs": []
    },
    {
      "cell_type": "markdown",
      "metadata": {
        "id": "YpDYBv7F2Ma-"
      },
      "source": [
        ""
      ]
    },
    {
      "cell_type": "code",
      "metadata": {
        "colab": {
          "base_uri": "https://localhost:8080/"
        },
        "id": "U7K6yT-M1O7Z",
        "outputId": "cb5d256e-decd-4054-dce1-b896f2781482"
      },
      "source": [
        "chicago_df.shape"
      ],
      "execution_count": null,
      "outputs": [
        {
          "output_type": "execute_result",
          "data": {
            "text/plain": [
              "(1016647, 23)"
            ]
          },
          "metadata": {
            "tags": []
          },
          "execution_count": 24
        }
      ]
    },
    {
      "cell_type": "markdown",
      "metadata": {
        "id": "KQpPwqW6vyLt"
      },
      "source": [
        "# STEP #2: EXPLORING THE DATASET  "
      ]
    },
    {
      "cell_type": "code",
      "metadata": {
        "id": "r3vcn5_VvyLt",
        "colab": {
          "base_uri": "https://localhost:8080/",
          "height": 411
        },
        "outputId": "b0249985-6c96-45e6-e52d-4eedf19f7041"
      },
      "source": [
        "\n",
        "chicago_df.head()"
      ],
      "execution_count": null,
      "outputs": [
        {
          "output_type": "execute_result",
          "data": {
            "text/html": [
              "<div>\n",
              "<style scoped>\n",
              "    .dataframe tbody tr th:only-of-type {\n",
              "        vertical-align: middle;\n",
              "    }\n",
              "\n",
              "    .dataframe tbody tr th {\n",
              "        vertical-align: top;\n",
              "    }\n",
              "\n",
              "    .dataframe thead th {\n",
              "        text-align: right;\n",
              "    }\n",
              "</style>\n",
              "<table border=\"1\" class=\"dataframe\">\n",
              "  <thead>\n",
              "    <tr style=\"text-align: right;\">\n",
              "      <th></th>\n",
              "      <th>Unnamed: 0</th>\n",
              "      <th>ID</th>\n",
              "      <th>Case Number</th>\n",
              "      <th>Date</th>\n",
              "      <th>Block</th>\n",
              "      <th>IUCR</th>\n",
              "      <th>Primary Type</th>\n",
              "      <th>Description</th>\n",
              "      <th>Location Description</th>\n",
              "      <th>Arrest</th>\n",
              "      <th>Domestic</th>\n",
              "      <th>Beat</th>\n",
              "      <th>District</th>\n",
              "      <th>Ward</th>\n",
              "      <th>Community Area</th>\n",
              "      <th>FBI Code</th>\n",
              "      <th>X Coordinate</th>\n",
              "      <th>Y Coordinate</th>\n",
              "      <th>Year</th>\n",
              "      <th>Updated On</th>\n",
              "      <th>Latitude</th>\n",
              "      <th>Longitude</th>\n",
              "      <th>Location</th>\n",
              "    </tr>\n",
              "  </thead>\n",
              "  <tbody>\n",
              "    <tr>\n",
              "      <th>0</th>\n",
              "      <td>0</td>\n",
              "      <td>4673626</td>\n",
              "      <td>HM274058</td>\n",
              "      <td>04/02/2006 01:00:00 PM</td>\n",
              "      <td>055XX N MANGO AVE</td>\n",
              "      <td>2825</td>\n",
              "      <td>OTHER OFFENSE</td>\n",
              "      <td>HARASSMENT BY TELEPHONE</td>\n",
              "      <td>RESIDENCE</td>\n",
              "      <td>False</td>\n",
              "      <td>False</td>\n",
              "      <td>1622</td>\n",
              "      <td>16.0</td>\n",
              "      <td>45.0</td>\n",
              "      <td>11.0</td>\n",
              "      <td>26</td>\n",
              "      <td>1136872.0</td>\n",
              "      <td>1936499.0</td>\n",
              "      <td>2006.0</td>\n",
              "      <td>04/15/2016 08:55:02 AM</td>\n",
              "      <td>41.981913</td>\n",
              "      <td>-87.771996</td>\n",
              "      <td>(41.981912692, -87.771996382)</td>\n",
              "    </tr>\n",
              "    <tr>\n",
              "      <th>1</th>\n",
              "      <td>1</td>\n",
              "      <td>4673627</td>\n",
              "      <td>HM202199</td>\n",
              "      <td>02/26/2006 01:40:48 PM</td>\n",
              "      <td>065XX S RHODES AVE</td>\n",
              "      <td>2017</td>\n",
              "      <td>NARCOTICS</td>\n",
              "      <td>MANU/DELIVER:CRACK</td>\n",
              "      <td>SIDEWALK</td>\n",
              "      <td>True</td>\n",
              "      <td>False</td>\n",
              "      <td>321</td>\n",
              "      <td>3.0</td>\n",
              "      <td>20.0</td>\n",
              "      <td>42.0</td>\n",
              "      <td>18</td>\n",
              "      <td>1181027.0</td>\n",
              "      <td>1861693.0</td>\n",
              "      <td>2006.0</td>\n",
              "      <td>04/15/2016 08:55:02 AM</td>\n",
              "      <td>41.775733</td>\n",
              "      <td>-87.611920</td>\n",
              "      <td>(41.775732538, -87.611919814)</td>\n",
              "    </tr>\n",
              "    <tr>\n",
              "      <th>2</th>\n",
              "      <td>2</td>\n",
              "      <td>4673628</td>\n",
              "      <td>HM113861</td>\n",
              "      <td>01/08/2006 11:16:00 PM</td>\n",
              "      <td>013XX E 69TH ST</td>\n",
              "      <td>051A</td>\n",
              "      <td>ASSAULT</td>\n",
              "      <td>AGGRAVATED: HANDGUN</td>\n",
              "      <td>OTHER</td>\n",
              "      <td>False</td>\n",
              "      <td>False</td>\n",
              "      <td>321</td>\n",
              "      <td>3.0</td>\n",
              "      <td>5.0</td>\n",
              "      <td>69.0</td>\n",
              "      <td>04A</td>\n",
              "      <td>1186023.0</td>\n",
              "      <td>1859609.0</td>\n",
              "      <td>2006.0</td>\n",
              "      <td>04/15/2016 08:55:02 AM</td>\n",
              "      <td>41.769897</td>\n",
              "      <td>-87.593671</td>\n",
              "      <td>(41.769897392, -87.593670899)</td>\n",
              "    </tr>\n",
              "    <tr>\n",
              "      <th>3</th>\n",
              "      <td>4</td>\n",
              "      <td>4673629</td>\n",
              "      <td>HM274049</td>\n",
              "      <td>04/05/2006 06:45:00 PM</td>\n",
              "      <td>061XX W NEWPORT AVE</td>\n",
              "      <td>0460</td>\n",
              "      <td>BATTERY</td>\n",
              "      <td>SIMPLE</td>\n",
              "      <td>RESIDENCE</td>\n",
              "      <td>False</td>\n",
              "      <td>False</td>\n",
              "      <td>1633</td>\n",
              "      <td>16.0</td>\n",
              "      <td>38.0</td>\n",
              "      <td>17.0</td>\n",
              "      <td>08B</td>\n",
              "      <td>1134772.0</td>\n",
              "      <td>1922299.0</td>\n",
              "      <td>2006.0</td>\n",
              "      <td>04/15/2016 08:55:02 AM</td>\n",
              "      <td>41.942984</td>\n",
              "      <td>-87.780057</td>\n",
              "      <td>(41.942984005, -87.780056951)</td>\n",
              "    </tr>\n",
              "    <tr>\n",
              "      <th>4</th>\n",
              "      <td>5</td>\n",
              "      <td>4673630</td>\n",
              "      <td>HM187120</td>\n",
              "      <td>02/17/2006 09:03:14 PM</td>\n",
              "      <td>037XX W 60TH ST</td>\n",
              "      <td>1811</td>\n",
              "      <td>NARCOTICS</td>\n",
              "      <td>POSS: CANNABIS 30GMS OR LESS</td>\n",
              "      <td>ALLEY</td>\n",
              "      <td>True</td>\n",
              "      <td>False</td>\n",
              "      <td>822</td>\n",
              "      <td>8.0</td>\n",
              "      <td>13.0</td>\n",
              "      <td>65.0</td>\n",
              "      <td>18</td>\n",
              "      <td>1152412.0</td>\n",
              "      <td>1864560.0</td>\n",
              "      <td>2006.0</td>\n",
              "      <td>04/15/2016 08:55:02 AM</td>\n",
              "      <td>41.784211</td>\n",
              "      <td>-87.716745</td>\n",
              "      <td>(41.784210853, -87.71674491)</td>\n",
              "    </tr>\n",
              "  </tbody>\n",
              "</table>\n",
              "</div>"
            ],
            "text/plain": [
              "  Unnamed: 0       ID  ...  Longitude                       Location\n",
              "0          0  4673626  ... -87.771996  (41.981912692, -87.771996382)\n",
              "1          1  4673627  ... -87.611920  (41.775732538, -87.611919814)\n",
              "2          2  4673628  ... -87.593671  (41.769897392, -87.593670899)\n",
              "3          4  4673629  ... -87.780057  (41.942984005, -87.780056951)\n",
              "4          5  4673630  ... -87.716745   (41.784210853, -87.71674491)\n",
              "\n",
              "[5 rows x 23 columns]"
            ]
          },
          "metadata": {
            "tags": []
          },
          "execution_count": 25
        }
      ]
    },
    {
      "cell_type": "code",
      "metadata": {
        "id": "aQ6QAMeHvyLu",
        "colab": {
          "base_uri": "https://localhost:8080/",
          "height": 1000
        },
        "outputId": "56e29aae-fa36-4aa3-ac22-6064517de0f8"
      },
      "source": [
        "#  last elements in the training dataset\n",
        "chicago_df.tail(20)"
      ],
      "execution_count": null,
      "outputs": [
        {
          "output_type": "execute_result",
          "data": {
            "text/html": [
              "<div>\n",
              "<style scoped>\n",
              "    .dataframe tbody tr th:only-of-type {\n",
              "        vertical-align: middle;\n",
              "    }\n",
              "\n",
              "    .dataframe tbody tr th {\n",
              "        vertical-align: top;\n",
              "    }\n",
              "\n",
              "    .dataframe thead th {\n",
              "        text-align: right;\n",
              "    }\n",
              "</style>\n",
              "<table border=\"1\" class=\"dataframe\">\n",
              "  <thead>\n",
              "    <tr style=\"text-align: right;\">\n",
              "      <th></th>\n",
              "      <th>Unnamed: 0</th>\n",
              "      <th>ID</th>\n",
              "      <th>Case Number</th>\n",
              "      <th>Date</th>\n",
              "      <th>Block</th>\n",
              "      <th>IUCR</th>\n",
              "      <th>Primary Type</th>\n",
              "      <th>Description</th>\n",
              "      <th>Location Description</th>\n",
              "      <th>Arrest</th>\n",
              "      <th>Domestic</th>\n",
              "      <th>Beat</th>\n",
              "      <th>District</th>\n",
              "      <th>Ward</th>\n",
              "      <th>Community Area</th>\n",
              "      <th>FBI Code</th>\n",
              "      <th>X Coordinate</th>\n",
              "      <th>Y Coordinate</th>\n",
              "      <th>Year</th>\n",
              "      <th>Updated On</th>\n",
              "      <th>Latitude</th>\n",
              "      <th>Longitude</th>\n",
              "      <th>Location</th>\n",
              "    </tr>\n",
              "  </thead>\n",
              "  <tbody>\n",
              "    <tr>\n",
              "      <th>341779</th>\n",
              "      <td>2676146</td>\n",
              "      <td>8846671</td>\n",
              "      <td>HV520047</td>\n",
              "      <td>10/15/2012 09:20:00 PM</td>\n",
              "      <td>079XX S WENTWORTH AVE</td>\n",
              "      <td>0470</td>\n",
              "      <td>PUBLIC PEACE VIOLATION</td>\n",
              "      <td>RECKLESS CONDUCT</td>\n",
              "      <td>CTA BUS</td>\n",
              "      <td>False</td>\n",
              "      <td>False</td>\n",
              "      <td>623</td>\n",
              "      <td>6.0</td>\n",
              "      <td>17.0</td>\n",
              "      <td>44.0</td>\n",
              "      <td>24</td>\n",
              "      <td>1176311.0</td>\n",
              "      <td>1852426.0</td>\n",
              "      <td>2012.0</td>\n",
              "      <td>02/04/2016 06:33:39 AM</td>\n",
              "      <td>41.750410</td>\n",
              "      <td>-87.629486</td>\n",
              "      <td>(41.750410091, -87.629486066)</td>\n",
              "    </tr>\n",
              "    <tr>\n",
              "      <th>341780</th>\n",
              "      <td>2676147</td>\n",
              "      <td>8846672</td>\n",
              "      <td>HV520062</td>\n",
              "      <td>10/15/2012 09:30:00 PM</td>\n",
              "      <td>032XX W WALNUT ST</td>\n",
              "      <td>1811</td>\n",
              "      <td>NARCOTICS</td>\n",
              "      <td>POSS: CANNABIS 30GMS OR LESS</td>\n",
              "      <td>SIDEWALK</td>\n",
              "      <td>True</td>\n",
              "      <td>False</td>\n",
              "      <td>1123</td>\n",
              "      <td>11.0</td>\n",
              "      <td>28.0</td>\n",
              "      <td>27.0</td>\n",
              "      <td>18</td>\n",
              "      <td>1154913.0</td>\n",
              "      <td>1901450.0</td>\n",
              "      <td>2012.0</td>\n",
              "      <td>02/04/2016 06:33:39 AM</td>\n",
              "      <td>41.885392</td>\n",
              "      <td>-87.706588</td>\n",
              "      <td>(41.88539198, -87.706588331)</td>\n",
              "    </tr>\n",
              "    <tr>\n",
              "      <th>341781</th>\n",
              "      <td>2676148</td>\n",
              "      <td>8846673</td>\n",
              "      <td>HV520025</td>\n",
              "      <td>10/15/2012 08:52:22 PM</td>\n",
              "      <td>010XX E 132ND ST</td>\n",
              "      <td>051A</td>\n",
              "      <td>ASSAULT</td>\n",
              "      <td>AGGRAVATED: HANDGUN</td>\n",
              "      <td>CHA PARKING LOT/GROUNDS</td>\n",
              "      <td>False</td>\n",
              "      <td>False</td>\n",
              "      <td>533</td>\n",
              "      <td>5.0</td>\n",
              "      <td>9.0</td>\n",
              "      <td>54.0</td>\n",
              "      <td>04A</td>\n",
              "      <td>1185758.0</td>\n",
              "      <td>1818038.0</td>\n",
              "      <td>2012.0</td>\n",
              "      <td>02/04/2016 06:33:39 AM</td>\n",
              "      <td>41.655828</td>\n",
              "      <td>-87.595947</td>\n",
              "      <td>(41.655827919, -87.595947243)</td>\n",
              "    </tr>\n",
              "    <tr>\n",
              "      <th>341782</th>\n",
              "      <td>2676149</td>\n",
              "      <td>8846674</td>\n",
              "      <td>HV520039</td>\n",
              "      <td>10/15/2012 08:40:00 PM</td>\n",
              "      <td>060XX N WINTHROP AVE</td>\n",
              "      <td>0313</td>\n",
              "      <td>ROBBERY</td>\n",
              "      <td>ARMED: OTHER DANGEROUS WEAPON</td>\n",
              "      <td>RESIDENTIAL YARD (FRONT/BACK)</td>\n",
              "      <td>False</td>\n",
              "      <td>False</td>\n",
              "      <td>2433</td>\n",
              "      <td>24.0</td>\n",
              "      <td>48.0</td>\n",
              "      <td>77.0</td>\n",
              "      <td>03</td>\n",
              "      <td>1167770.0</td>\n",
              "      <td>1940175.0</td>\n",
              "      <td>2012.0</td>\n",
              "      <td>02/04/2016 06:33:39 AM</td>\n",
              "      <td>41.991388</td>\n",
              "      <td>-87.658255</td>\n",
              "      <td>(41.991387838, -87.658255326)</td>\n",
              "    </tr>\n",
              "    <tr>\n",
              "      <th>341783</th>\n",
              "      <td>2676150</td>\n",
              "      <td>8846675</td>\n",
              "      <td>HV519926</td>\n",
              "      <td>10/15/2012 07:38:00 PM</td>\n",
              "      <td>019XX W 87TH ST</td>\n",
              "      <td>041A</td>\n",
              "      <td>BATTERY</td>\n",
              "      <td>AGGRAVATED: HANDGUN</td>\n",
              "      <td>SIDEWALK</td>\n",
              "      <td>False</td>\n",
              "      <td>False</td>\n",
              "      <td>2221</td>\n",
              "      <td>22.0</td>\n",
              "      <td>21.0</td>\n",
              "      <td>71.0</td>\n",
              "      <td>04B</td>\n",
              "      <td>1165111.0</td>\n",
              "      <td>1846973.0</td>\n",
              "      <td>2012.0</td>\n",
              "      <td>02/04/2016 06:33:39 AM</td>\n",
              "      <td>41.735690</td>\n",
              "      <td>-87.670682</td>\n",
              "      <td>(41.735690345, -87.67068193)</td>\n",
              "    </tr>\n",
              "    <tr>\n",
              "      <th>341784</th>\n",
              "      <td>2676151</td>\n",
              "      <td>8846676</td>\n",
              "      <td>HV520015</td>\n",
              "      <td>10/15/2012 08:40:00 PM</td>\n",
              "      <td>060XX S JUSTINE ST</td>\n",
              "      <td>0313</td>\n",
              "      <td>ROBBERY</td>\n",
              "      <td>ARMED: OTHER DANGEROUS WEAPON</td>\n",
              "      <td>APARTMENT</td>\n",
              "      <td>False</td>\n",
              "      <td>False</td>\n",
              "      <td>713</td>\n",
              "      <td>7.0</td>\n",
              "      <td>15.0</td>\n",
              "      <td>67.0</td>\n",
              "      <td>03</td>\n",
              "      <td>1167038.0</td>\n",
              "      <td>1864623.0</td>\n",
              "      <td>2012.0</td>\n",
              "      <td>02/04/2016 06:33:39 AM</td>\n",
              "      <td>41.784083</td>\n",
              "      <td>-87.663118</td>\n",
              "      <td>(41.784083405, -87.663118324)</td>\n",
              "    </tr>\n",
              "    <tr>\n",
              "      <th>341785</th>\n",
              "      <td>2676152</td>\n",
              "      <td>8846677</td>\n",
              "      <td>HV519786</td>\n",
              "      <td>10/14/2012 03:00:00 PM</td>\n",
              "      <td>017XX N BISSELL ST</td>\n",
              "      <td>0820</td>\n",
              "      <td>THEFT</td>\n",
              "      <td>$500 AND UNDER</td>\n",
              "      <td>VEHICLE NON-COMMERCIAL</td>\n",
              "      <td>False</td>\n",
              "      <td>False</td>\n",
              "      <td>1813</td>\n",
              "      <td>18.0</td>\n",
              "      <td>43.0</td>\n",
              "      <td>7.0</td>\n",
              "      <td>06</td>\n",
              "      <td>1169883.0</td>\n",
              "      <td>1911721.0</td>\n",
              "      <td>2012.0</td>\n",
              "      <td>02/04/2016 06:33:39 AM</td>\n",
              "      <td>41.913263</td>\n",
              "      <td>-87.651316</td>\n",
              "      <td>(41.913263064, -87.651316077)</td>\n",
              "    </tr>\n",
              "    <tr>\n",
              "      <th>341786</th>\n",
              "      <td>2676153</td>\n",
              "      <td>8846678</td>\n",
              "      <td>HV520011</td>\n",
              "      <td>10/15/2012 06:30:00 PM</td>\n",
              "      <td>002XX W 87TH ST</td>\n",
              "      <td>1330</td>\n",
              "      <td>CRIMINAL TRESPASS</td>\n",
              "      <td>TO LAND</td>\n",
              "      <td>PARKING LOT/GARAGE(NON.RESID.)</td>\n",
              "      <td>True</td>\n",
              "      <td>False</td>\n",
              "      <td>622</td>\n",
              "      <td>6.0</td>\n",
              "      <td>21.0</td>\n",
              "      <td>44.0</td>\n",
              "      <td>26</td>\n",
              "      <td>1176442.0</td>\n",
              "      <td>1847223.0</td>\n",
              "      <td>2012.0</td>\n",
              "      <td>02/04/2016 06:33:39 AM</td>\n",
              "      <td>41.736129</td>\n",
              "      <td>-87.629162</td>\n",
              "      <td>(41.736129473, -87.629162044)</td>\n",
              "    </tr>\n",
              "    <tr>\n",
              "      <th>341787</th>\n",
              "      <td>2676154</td>\n",
              "      <td>8846679</td>\n",
              "      <td>HV519908</td>\n",
              "      <td>10/15/2012 06:45:00 PM</td>\n",
              "      <td>008XX N MICHIGAN AVE</td>\n",
              "      <td>0880</td>\n",
              "      <td>THEFT</td>\n",
              "      <td>PURSE-SNATCHING</td>\n",
              "      <td>RESTAURANT</td>\n",
              "      <td>False</td>\n",
              "      <td>False</td>\n",
              "      <td>1833</td>\n",
              "      <td>18.0</td>\n",
              "      <td>42.0</td>\n",
              "      <td>8.0</td>\n",
              "      <td>06</td>\n",
              "      <td>1177330.0</td>\n",
              "      <td>1906499.0</td>\n",
              "      <td>2012.0</td>\n",
              "      <td>02/04/2016 06:33:39 AM</td>\n",
              "      <td>41.898768</td>\n",
              "      <td>-87.624116</td>\n",
              "      <td>(41.898767916, -87.624116333)</td>\n",
              "    </tr>\n",
              "    <tr>\n",
              "      <th>341788</th>\n",
              "      <td>2676155</td>\n",
              "      <td>8846680</td>\n",
              "      <td>HV519495</td>\n",
              "      <td>10/11/2012 07:00:00 PM</td>\n",
              "      <td>011XX N CENTRAL AVE</td>\n",
              "      <td>1752</td>\n",
              "      <td>OFFENSE INVOLVING CHILDREN</td>\n",
              "      <td>AGG CRIM SEX ABUSE FAM MEMBER</td>\n",
              "      <td>RESIDENCE</td>\n",
              "      <td>True</td>\n",
              "      <td>False</td>\n",
              "      <td>1524</td>\n",
              "      <td>15.0</td>\n",
              "      <td>37.0</td>\n",
              "      <td>25.0</td>\n",
              "      <td>20</td>\n",
              "      <td>1138804.0</td>\n",
              "      <td>1907004.0</td>\n",
              "      <td>2012.0</td>\n",
              "      <td>02/04/2016 06:33:39 AM</td>\n",
              "      <td>41.900940</td>\n",
              "      <td>-87.765609</td>\n",
              "      <td>(41.900940461, -87.76560933)</td>\n",
              "    </tr>\n",
              "    <tr>\n",
              "      <th>341789</th>\n",
              "      <td>2676156</td>\n",
              "      <td>8846681</td>\n",
              "      <td>HV519516</td>\n",
              "      <td>10/12/2012 01:00:00 AM</td>\n",
              "      <td>0000X E OAK ST</td>\n",
              "      <td>0890</td>\n",
              "      <td>THEFT</td>\n",
              "      <td>FROM BUILDING</td>\n",
              "      <td>RESIDENCE</td>\n",
              "      <td>False</td>\n",
              "      <td>False</td>\n",
              "      <td>1824</td>\n",
              "      <td>18.0</td>\n",
              "      <td>42.0</td>\n",
              "      <td>8.0</td>\n",
              "      <td>06</td>\n",
              "      <td>1176235.0</td>\n",
              "      <td>1907210.0</td>\n",
              "      <td>2012.0</td>\n",
              "      <td>02/04/2016 06:33:39 AM</td>\n",
              "      <td>41.900744</td>\n",
              "      <td>-87.628117</td>\n",
              "      <td>(41.900743703, -87.6281167)</td>\n",
              "    </tr>\n",
              "    <tr>\n",
              "      <th>341790</th>\n",
              "      <td>2676157</td>\n",
              "      <td>8846682</td>\n",
              "      <td>HV520026</td>\n",
              "      <td>10/15/2012 08:25:00 PM</td>\n",
              "      <td>040XX W CARROLL AVE</td>\n",
              "      <td>1811</td>\n",
              "      <td>NARCOTICS</td>\n",
              "      <td>POSS: CANNABIS 30GMS OR LESS</td>\n",
              "      <td>STREET</td>\n",
              "      <td>True</td>\n",
              "      <td>False</td>\n",
              "      <td>1114</td>\n",
              "      <td>11.0</td>\n",
              "      <td>28.0</td>\n",
              "      <td>26.0</td>\n",
              "      <td>18</td>\n",
              "      <td>1149370.0</td>\n",
              "      <td>1901928.0</td>\n",
              "      <td>2012.0</td>\n",
              "      <td>02/04/2016 06:33:39 AM</td>\n",
              "      <td>41.886813</td>\n",
              "      <td>-87.726931</td>\n",
              "      <td>(41.88681295, -87.726930993)</td>\n",
              "    </tr>\n",
              "    <tr>\n",
              "      <th>341791</th>\n",
              "      <td>2676158</td>\n",
              "      <td>8846683</td>\n",
              "      <td>HV520077</td>\n",
              "      <td>10/15/2012 09:50:00 PM</td>\n",
              "      <td>052XX S LOOMIS BLVD</td>\n",
              "      <td>143A</td>\n",
              "      <td>WEAPONS VIOLATION</td>\n",
              "      <td>UNLAWFUL POSS OF HANDGUN</td>\n",
              "      <td>OTHER</td>\n",
              "      <td>True</td>\n",
              "      <td>False</td>\n",
              "      <td>934</td>\n",
              "      <td>9.0</td>\n",
              "      <td>16.0</td>\n",
              "      <td>61.0</td>\n",
              "      <td>15</td>\n",
              "      <td>1167885.0</td>\n",
              "      <td>1870030.0</td>\n",
              "      <td>2012.0</td>\n",
              "      <td>02/04/2016 06:33:39 AM</td>\n",
              "      <td>41.798903</td>\n",
              "      <td>-87.659858</td>\n",
              "      <td>(41.798902694, -87.659857602)</td>\n",
              "    </tr>\n",
              "    <tr>\n",
              "      <th>341792</th>\n",
              "      <td>2676159</td>\n",
              "      <td>8846684</td>\n",
              "      <td>HV520007</td>\n",
              "      <td>10/15/2012 08:15:00 PM</td>\n",
              "      <td>029XX E 81ST ST</td>\n",
              "      <td>0486</td>\n",
              "      <td>BATTERY</td>\n",
              "      <td>DOMESTIC BATTERY SIMPLE</td>\n",
              "      <td>RESIDENCE</td>\n",
              "      <td>False</td>\n",
              "      <td>True</td>\n",
              "      <td>422</td>\n",
              "      <td>4.0</td>\n",
              "      <td>7.0</td>\n",
              "      <td>46.0</td>\n",
              "      <td>08B</td>\n",
              "      <td>1197447.0</td>\n",
              "      <td>1851834.0</td>\n",
              "      <td>2012.0</td>\n",
              "      <td>02/04/2016 06:33:39 AM</td>\n",
              "      <td>41.748285</td>\n",
              "      <td>-87.552055</td>\n",
              "      <td>(41.748285033, -87.552055115)</td>\n",
              "    </tr>\n",
              "    <tr>\n",
              "      <th>341793</th>\n",
              "      <td>2676160</td>\n",
              "      <td>8846685</td>\n",
              "      <td>HV520054</td>\n",
              "      <td>10/15/2012 04:00:00 PM</td>\n",
              "      <td>082XX S ST LAWRENCE AVE</td>\n",
              "      <td>1310</td>\n",
              "      <td>CRIMINAL DAMAGE</td>\n",
              "      <td>TO PROPERTY</td>\n",
              "      <td>RESIDENCE</td>\n",
              "      <td>False</td>\n",
              "      <td>False</td>\n",
              "      <td>631</td>\n",
              "      <td>6.0</td>\n",
              "      <td>6.0</td>\n",
              "      <td>44.0</td>\n",
              "      <td>14</td>\n",
              "      <td>1181671.0</td>\n",
              "      <td>1850458.0</td>\n",
              "      <td>2012.0</td>\n",
              "      <td>02/04/2016 06:33:39 AM</td>\n",
              "      <td>41.744888</td>\n",
              "      <td>-87.609905</td>\n",
              "      <td>(41.744887681, -87.609905358)</td>\n",
              "    </tr>\n",
              "    <tr>\n",
              "      <th>341794</th>\n",
              "      <td>2676161</td>\n",
              "      <td>8846686</td>\n",
              "      <td>HV518666</td>\n",
              "      <td>10/14/2012 08:00:00 AM</td>\n",
              "      <td>079XX S CARPENTER ST</td>\n",
              "      <td>1310</td>\n",
              "      <td>CRIMINAL DAMAGE</td>\n",
              "      <td>TO PROPERTY</td>\n",
              "      <td>APARTMENT</td>\n",
              "      <td>False</td>\n",
              "      <td>False</td>\n",
              "      <td>612</td>\n",
              "      <td>6.0</td>\n",
              "      <td>17.0</td>\n",
              "      <td>71.0</td>\n",
              "      <td>14</td>\n",
              "      <td>1170691.0</td>\n",
              "      <td>1852219.0</td>\n",
              "      <td>2012.0</td>\n",
              "      <td>02/04/2016 06:33:39 AM</td>\n",
              "      <td>41.749966</td>\n",
              "      <td>-87.650086</td>\n",
              "      <td>(41.749966369, -87.65008631)</td>\n",
              "    </tr>\n",
              "    <tr>\n",
              "      <th>341795</th>\n",
              "      <td>2676162</td>\n",
              "      <td>8846687</td>\n",
              "      <td>HV519781</td>\n",
              "      <td>10/15/2012 05:58:00 PM</td>\n",
              "      <td>026XX E 79TH ST</td>\n",
              "      <td>041A</td>\n",
              "      <td>BATTERY</td>\n",
              "      <td>AGGRAVATED: HANDGUN</td>\n",
              "      <td>STREET</td>\n",
              "      <td>False</td>\n",
              "      <td>False</td>\n",
              "      <td>422</td>\n",
              "      <td>4.0</td>\n",
              "      <td>7.0</td>\n",
              "      <td>46.0</td>\n",
              "      <td>04B</td>\n",
              "      <td>1195379.0</td>\n",
              "      <td>1853104.0</td>\n",
              "      <td>2012.0</td>\n",
              "      <td>02/04/2016 06:33:39 AM</td>\n",
              "      <td>41.751821</td>\n",
              "      <td>-87.559591</td>\n",
              "      <td>(41.751821289, -87.559590955)</td>\n",
              "    </tr>\n",
              "    <tr>\n",
              "      <th>341796</th>\n",
              "      <td>2676163</td>\n",
              "      <td>8846688</td>\n",
              "      <td>HV519198</td>\n",
              "      <td>10/15/2012 11:15:00 AM</td>\n",
              "      <td>079XX S DREXEL AVE</td>\n",
              "      <td>0610</td>\n",
              "      <td>BURGLARY</td>\n",
              "      <td>FORCIBLE ENTRY</td>\n",
              "      <td>APARTMENT</td>\n",
              "      <td>False</td>\n",
              "      <td>False</td>\n",
              "      <td>624</td>\n",
              "      <td>6.0</td>\n",
              "      <td>8.0</td>\n",
              "      <td>44.0</td>\n",
              "      <td>05</td>\n",
              "      <td>1183609.0</td>\n",
              "      <td>1852575.0</td>\n",
              "      <td>2012.0</td>\n",
              "      <td>02/04/2016 06:33:39 AM</td>\n",
              "      <td>41.750652</td>\n",
              "      <td>-87.602738</td>\n",
              "      <td>(41.750652023, -87.602738456)</td>\n",
              "    </tr>\n",
              "    <tr>\n",
              "      <th>341797</th>\n",
              "      <td>2676164</td>\n",
              "      <td>8846689</td>\n",
              "      <td>HV517229</td>\n",
              "      <td>10/13/2012 09:15:00 PM</td>\n",
              "      <td>108XX S WABASH AVE</td>\n",
              "      <td>1320</td>\n",
              "      <td>CRIMINAL DAMAGE</td>\n",
              "      <td>TO VEHICLE</td>\n",
              "      <td>STREET</td>\n",
              "      <td>False</td>\n",
              "      <td>False</td>\n",
              "      <td>513</td>\n",
              "      <td>5.0</td>\n",
              "      <td>9.0</td>\n",
              "      <td>49.0</td>\n",
              "      <td>14</td>\n",
              "      <td>1178501.0</td>\n",
              "      <td>1833034.0</td>\n",
              "      <td>2012.0</td>\n",
              "      <td>02/04/2016 06:33:39 AM</td>\n",
              "      <td>41.697147</td>\n",
              "      <td>-87.622048</td>\n",
              "      <td>(41.697146505, -87.622048098)</td>\n",
              "    </tr>\n",
              "    <tr>\n",
              "      <th>341798</th>\n",
              "      <td>2676165</td>\n",
              "      <td>8846690</td>\n",
              "      <td>HV520076</td>\n",
              "      <td>10/15/2012 09:10:00 PM</td>\n",
              "      <td>004XX S PULASKI RD</td>\n",
              "      <td>2024</td>\n",
              "      <td>NARCOTICS</td>\n",
              "      <td>POSS: HEROIN(WHITE)</td>\n",
              "      <td>SIDEWALK</td>\n",
              "      <td>True</td>\n",
              "      <td>False</td>\n",
              "      <td>1132</td>\n",
              "      <td>11.0</td>\n",
              "      <td>24.0</td>\n",
              "      <td>26.0</td>\n",
              "      <td>NaN</td>\n",
              "      <td>NaN</td>\n",
              "      <td>NaN</td>\n",
              "      <td>NaN</td>\n",
              "      <td>NaN</td>\n",
              "      <td>NaN</td>\n",
              "      <td>NaN</td>\n",
              "      <td>NaN</td>\n",
              "    </tr>\n",
              "  </tbody>\n",
              "</table>\n",
              "</div>"
            ],
            "text/plain": [
              "       Unnamed: 0       ID  ...  Longitude                       Location\n",
              "341779    2676146  8846671  ... -87.629486  (41.750410091, -87.629486066)\n",
              "341780    2676147  8846672  ... -87.706588   (41.88539198, -87.706588331)\n",
              "341781    2676148  8846673  ... -87.595947  (41.655827919, -87.595947243)\n",
              "341782    2676149  8846674  ... -87.658255  (41.991387838, -87.658255326)\n",
              "341783    2676150  8846675  ... -87.670682   (41.735690345, -87.67068193)\n",
              "341784    2676151  8846676  ... -87.663118  (41.784083405, -87.663118324)\n",
              "341785    2676152  8846677  ... -87.651316  (41.913263064, -87.651316077)\n",
              "341786    2676153  8846678  ... -87.629162  (41.736129473, -87.629162044)\n",
              "341787    2676154  8846679  ... -87.624116  (41.898767916, -87.624116333)\n",
              "341788    2676155  8846680  ... -87.765609   (41.900940461, -87.76560933)\n",
              "341789    2676156  8846681  ... -87.628117    (41.900743703, -87.6281167)\n",
              "341790    2676157  8846682  ... -87.726931   (41.88681295, -87.726930993)\n",
              "341791    2676158  8846683  ... -87.659858  (41.798902694, -87.659857602)\n",
              "341792    2676159  8846684  ... -87.552055  (41.748285033, -87.552055115)\n",
              "341793    2676160  8846685  ... -87.609905  (41.744887681, -87.609905358)\n",
              "341794    2676161  8846686  ... -87.650086   (41.749966369, -87.65008631)\n",
              "341795    2676162  8846687  ... -87.559591  (41.751821289, -87.559590955)\n",
              "341796    2676163  8846688  ... -87.602738  (41.750652023, -87.602738456)\n",
              "341797    2676164  8846689  ... -87.622048  (41.697146505, -87.622048098)\n",
              "341798    2676165  8846690  ...        NaN                            NaN\n",
              "\n",
              "[20 rows x 23 columns]"
            ]
          },
          "metadata": {
            "tags": []
          },
          "execution_count": 26
        }
      ]
    },
    {
      "cell_type": "code",
      "metadata": {
        "id": "jCyQZcvUvyLw",
        "colab": {
          "base_uri": "https://localhost:8080/",
          "height": 705
        },
        "outputId": "eff6b0a7-3b8e-4d86-cf60-366c3e9e52ec"
      },
      "source": [
        "#seeing how many null elements are contained in the data\n",
        "plt.figure(figsize=(10,10))\n",
        "sns.heatmap(chicago_df.isnull(), cbar = False, cmap = 'YlGnBu')#we are not providing any color bar,cmap=we can select any"
      ],
      "execution_count": null,
      "outputs": [
        {
          "output_type": "execute_result",
          "data": {
            "text/plain": [
              "<matplotlib.axes._subplots.AxesSubplot at 0x7f85c1de4978>"
            ]
          },
          "metadata": {
            "tags": []
          },
          "execution_count": 27
        },
        {
          "output_type": "display_data",
          "data": {
            "image/png": "[encoded data removed]",
            "text/plain": [
              "<Figure size 720x720 with 1 Axes>"
            ]
          },
          "metadata": {
            "tags": [],
            "needs_background": "light"
          }
        }
      ]
    },
    {
      "cell_type": "code",
      "metadata": {
        "id": "hA4tVIbNvyLx"
      },
      "source": [
        "#dropping the unnessary\n",
        "chicago_df.drop(['Unnamed: 0', 'Case Number', 'ID', 'IUCR', 'X Coordinate', 'Y Coordinate','Updated On','Year', 'FBI Code', 'Beat','Ward','Community Area', 'Location', 'District', 'Latitude' , 'Longitude'], inplace=True, axis=1)"
      ],
      "execution_count": null,
      "outputs": []
    },
    {
      "cell_type": "code",
      "metadata": {
        "id": "c0a18_vDvyL5",
        "colab": {
          "base_uri": "https://localhost:8080/",
          "height": 419
        },
        "outputId": "e205d2ab-e703-483f-b074-3d8b8a9091bf"
      },
      "source": [
        "chicago_df"
      ],
      "execution_count": null,
      "outputs": [
        {
          "output_type": "execute_result",
          "data": {
            "text/html": [
              "<div>\n",
              "<style scoped>\n",
              "    .dataframe tbody tr th:only-of-type {\n",
              "        vertical-align: middle;\n",
              "    }\n",
              "\n",
              "    .dataframe tbody tr th {\n",
              "        vertical-align: top;\n",
              "    }\n",
              "\n",
              "    .dataframe thead th {\n",
              "        text-align: right;\n",
              "    }\n",
              "</style>\n",
              "<table border=\"1\" class=\"dataframe\">\n",
              "  <thead>\n",
              "    <tr style=\"text-align: right;\">\n",
              "      <th></th>\n",
              "      <th>Date</th>\n",
              "      <th>Block</th>\n",
              "      <th>Primary Type</th>\n",
              "      <th>Description</th>\n",
              "      <th>Location Description</th>\n",
              "      <th>Arrest</th>\n",
              "      <th>Domestic</th>\n",
              "    </tr>\n",
              "  </thead>\n",
              "  <tbody>\n",
              "    <tr>\n",
              "      <th>0</th>\n",
              "      <td>04/02/2006 01:00:00 PM</td>\n",
              "      <td>055XX N MANGO AVE</td>\n",
              "      <td>OTHER OFFENSE</td>\n",
              "      <td>HARASSMENT BY TELEPHONE</td>\n",
              "      <td>RESIDENCE</td>\n",
              "      <td>False</td>\n",
              "      <td>False</td>\n",
              "    </tr>\n",
              "    <tr>\n",
              "      <th>1</th>\n",
              "      <td>02/26/2006 01:40:48 PM</td>\n",
              "      <td>065XX S RHODES AVE</td>\n",
              "      <td>NARCOTICS</td>\n",
              "      <td>MANU/DELIVER:CRACK</td>\n",
              "      <td>SIDEWALK</td>\n",
              "      <td>True</td>\n",
              "      <td>False</td>\n",
              "    </tr>\n",
              "    <tr>\n",
              "      <th>2</th>\n",
              "      <td>01/08/2006 11:16:00 PM</td>\n",
              "      <td>013XX E 69TH ST</td>\n",
              "      <td>ASSAULT</td>\n",
              "      <td>AGGRAVATED: HANDGUN</td>\n",
              "      <td>OTHER</td>\n",
              "      <td>False</td>\n",
              "      <td>False</td>\n",
              "    </tr>\n",
              "    <tr>\n",
              "      <th>3</th>\n",
              "      <td>04/05/2006 06:45:00 PM</td>\n",
              "      <td>061XX W NEWPORT AVE</td>\n",
              "      <td>BATTERY</td>\n",
              "      <td>SIMPLE</td>\n",
              "      <td>RESIDENCE</td>\n",
              "      <td>False</td>\n",
              "      <td>False</td>\n",
              "    </tr>\n",
              "    <tr>\n",
              "      <th>4</th>\n",
              "      <td>02/17/2006 09:03:14 PM</td>\n",
              "      <td>037XX W 60TH ST</td>\n",
              "      <td>NARCOTICS</td>\n",
              "      <td>POSS: CANNABIS 30GMS OR LESS</td>\n",
              "      <td>ALLEY</td>\n",
              "      <td>True</td>\n",
              "      <td>False</td>\n",
              "    </tr>\n",
              "    <tr>\n",
              "      <th>...</th>\n",
              "      <td>...</td>\n",
              "      <td>...</td>\n",
              "      <td>...</td>\n",
              "      <td>...</td>\n",
              "      <td>...</td>\n",
              "      <td>...</td>\n",
              "      <td>...</td>\n",
              "    </tr>\n",
              "    <tr>\n",
              "      <th>341794</th>\n",
              "      <td>10/14/2012 08:00:00 AM</td>\n",
              "      <td>079XX S CARPENTER ST</td>\n",
              "      <td>CRIMINAL DAMAGE</td>\n",
              "      <td>TO PROPERTY</td>\n",
              "      <td>APARTMENT</td>\n",
              "      <td>False</td>\n",
              "      <td>False</td>\n",
              "    </tr>\n",
              "    <tr>\n",
              "      <th>341795</th>\n",
              "      <td>10/15/2012 05:58:00 PM</td>\n",
              "      <td>026XX E 79TH ST</td>\n",
              "      <td>BATTERY</td>\n",
              "      <td>AGGRAVATED: HANDGUN</td>\n",
              "      <td>STREET</td>\n",
              "      <td>False</td>\n",
              "      <td>False</td>\n",
              "    </tr>\n",
              "    <tr>\n",
              "      <th>341796</th>\n",
              "      <td>10/15/2012 11:15:00 AM</td>\n",
              "      <td>079XX S DREXEL AVE</td>\n",
              "      <td>BURGLARY</td>\n",
              "      <td>FORCIBLE ENTRY</td>\n",
              "      <td>APARTMENT</td>\n",
              "      <td>False</td>\n",
              "      <td>False</td>\n",
              "    </tr>\n",
              "    <tr>\n",
              "      <th>341797</th>\n",
              "      <td>10/13/2012 09:15:00 PM</td>\n",
              "      <td>108XX S WABASH AVE</td>\n",
              "      <td>CRIMINAL DAMAGE</td>\n",
              "      <td>TO VEHICLE</td>\n",
              "      <td>STREET</td>\n",
              "      <td>False</td>\n",
              "      <td>False</td>\n",
              "    </tr>\n",
              "    <tr>\n",
              "      <th>341798</th>\n",
              "      <td>10/15/2012 09:10:00 PM</td>\n",
              "      <td>004XX S PULASKI RD</td>\n",
              "      <td>NARCOTICS</td>\n",
              "      <td>POSS: HEROIN(WHITE)</td>\n",
              "      <td>SIDEWALK</td>\n",
              "      <td>True</td>\n",
              "      <td>False</td>\n",
              "    </tr>\n",
              "  </tbody>\n",
              "</table>\n",
              "<p>1016647 rows × 7 columns</p>\n",
              "</div>"
            ],
            "text/plain": [
              "                          Date                 Block  ... Arrest Domestic\n",
              "0       04/02/2006 01:00:00 PM     055XX N MANGO AVE  ...  False    False\n",
              "1       02/26/2006 01:40:48 PM    065XX S RHODES AVE  ...   True    False\n",
              "2       01/08/2006 11:16:00 PM       013XX E 69TH ST  ...  False    False\n",
              "3       04/05/2006 06:45:00 PM   061XX W NEWPORT AVE  ...  False    False\n",
              "4       02/17/2006 09:03:14 PM       037XX W 60TH ST  ...   True    False\n",
              "...                        ...                   ...  ...    ...      ...\n",
              "341794  10/14/2012 08:00:00 AM  079XX S CARPENTER ST  ...  False    False\n",
              "341795  10/15/2012 05:58:00 PM       026XX E 79TH ST  ...  False    False\n",
              "341796  10/15/2012 11:15:00 AM    079XX S DREXEL AVE  ...  False    False\n",
              "341797  10/13/2012 09:15:00 PM    108XX S WABASH AVE  ...  False    False\n",
              "341798  10/15/2012 09:10:00 PM    004XX S PULASKI RD  ...   True    False\n",
              "\n",
              "[1016647 rows x 7 columns]"
            ]
          },
          "metadata": {
            "tags": []
          },
          "execution_count": 29
        }
      ]
    },
    {
      "cell_type": "code",
      "metadata": {
        "id": "8vIFbU6h4pK1"
      },
      "source": [
        ""
      ],
      "execution_count": null,
      "outputs": []
    },
    {
      "cell_type": "code",
      "metadata": {
        "id": "T0bei5b-vyL8"
      },
      "source": [
        "# Assembling a datetime by rearranging the dataframe column \"Date\". \n",
        "\n",
        "chicago_df.Date=pd.to_datetime(chicago_df.Date,format='%Y/%m/%d %I:%M:%S %p')\n"
      ],
      "execution_count": null,
      "outputs": []
    },
    {
      "cell_type": "code",
      "metadata": {
        "id": "BFfR8oy_6IHm"
      },
      "source": [
        ""
      ],
      "execution_count": null,
      "outputs": []
    },
    {
      "cell_type": "code",
      "metadata": {
        "id": "FgOxjIIivyL9",
        "colab": {
          "base_uri": "https://localhost:8080/",
          "height": 450
        },
        "outputId": "c32d5cf2-9fe9-4270-ac7f-7506db6fcd2e"
      },
      "source": [
        "chicago_df"
      ],
      "execution_count": null,
      "outputs": [
        {
          "output_type": "execute_result",
          "data": {
            "text/html": [
              "<div>\n",
              "<style scoped>\n",
              "    .dataframe tbody tr th:only-of-type {\n",
              "        vertical-align: middle;\n",
              "    }\n",
              "\n",
              "    .dataframe tbody tr th {\n",
              "        vertical-align: top;\n",
              "    }\n",
              "\n",
              "    .dataframe thead th {\n",
              "        text-align: right;\n",
              "    }\n",
              "</style>\n",
              "<table border=\"1\" class=\"dataframe\">\n",
              "  <thead>\n",
              "    <tr style=\"text-align: right;\">\n",
              "      <th></th>\n",
              "      <th>Date</th>\n",
              "      <th>Block</th>\n",
              "      <th>Primary Type</th>\n",
              "      <th>Description</th>\n",
              "      <th>Location Description</th>\n",
              "      <th>Arrest</th>\n",
              "      <th>Domestic</th>\n",
              "    </tr>\n",
              "    <tr>\n",
              "      <th>Date</th>\n",
              "      <th></th>\n",
              "      <th></th>\n",
              "      <th></th>\n",
              "      <th></th>\n",
              "      <th></th>\n",
              "      <th></th>\n",
              "      <th></th>\n",
              "    </tr>\n",
              "  </thead>\n",
              "  <tbody>\n",
              "    <tr>\n",
              "      <th>2006-04-02 13:00:00</th>\n",
              "      <td>2006-04-02 13:00:00</td>\n",
              "      <td>055XX N MANGO AVE</td>\n",
              "      <td>OTHER OFFENSE</td>\n",
              "      <td>HARASSMENT BY TELEPHONE</td>\n",
              "      <td>RESIDENCE</td>\n",
              "      <td>False</td>\n",
              "      <td>False</td>\n",
              "    </tr>\n",
              "    <tr>\n",
              "      <th>2006-02-26 13:40:48</th>\n",
              "      <td>2006-02-26 13:40:48</td>\n",
              "      <td>065XX S RHODES AVE</td>\n",
              "      <td>NARCOTICS</td>\n",
              "      <td>MANU/DELIVER:CRACK</td>\n",
              "      <td>SIDEWALK</td>\n",
              "      <td>True</td>\n",
              "      <td>False</td>\n",
              "    </tr>\n",
              "    <tr>\n",
              "      <th>2006-01-08 23:16:00</th>\n",
              "      <td>2006-01-08 23:16:00</td>\n",
              "      <td>013XX E 69TH ST</td>\n",
              "      <td>ASSAULT</td>\n",
              "      <td>AGGRAVATED: HANDGUN</td>\n",
              "      <td>OTHER</td>\n",
              "      <td>False</td>\n",
              "      <td>False</td>\n",
              "    </tr>\n",
              "    <tr>\n",
              "      <th>2006-04-05 18:45:00</th>\n",
              "      <td>2006-04-05 18:45:00</td>\n",
              "      <td>061XX W NEWPORT AVE</td>\n",
              "      <td>BATTERY</td>\n",
              "      <td>SIMPLE</td>\n",
              "      <td>RESIDENCE</td>\n",
              "      <td>False</td>\n",
              "      <td>False</td>\n",
              "    </tr>\n",
              "    <tr>\n",
              "      <th>2006-02-17 21:03:14</th>\n",
              "      <td>2006-02-17 21:03:14</td>\n",
              "      <td>037XX W 60TH ST</td>\n",
              "      <td>NARCOTICS</td>\n",
              "      <td>POSS: CANNABIS 30GMS OR LESS</td>\n",
              "      <td>ALLEY</td>\n",
              "      <td>True</td>\n",
              "      <td>False</td>\n",
              "    </tr>\n",
              "    <tr>\n",
              "      <th>...</th>\n",
              "      <td>...</td>\n",
              "      <td>...</td>\n",
              "      <td>...</td>\n",
              "      <td>...</td>\n",
              "      <td>...</td>\n",
              "      <td>...</td>\n",
              "      <td>...</td>\n",
              "    </tr>\n",
              "    <tr>\n",
              "      <th>2012-10-14 08:00:00</th>\n",
              "      <td>2012-10-14 08:00:00</td>\n",
              "      <td>079XX S CARPENTER ST</td>\n",
              "      <td>CRIMINAL DAMAGE</td>\n",
              "      <td>TO PROPERTY</td>\n",
              "      <td>APARTMENT</td>\n",
              "      <td>False</td>\n",
              "      <td>False</td>\n",
              "    </tr>\n",
              "    <tr>\n",
              "      <th>2012-10-15 17:58:00</th>\n",
              "      <td>2012-10-15 17:58:00</td>\n",
              "      <td>026XX E 79TH ST</td>\n",
              "      <td>BATTERY</td>\n",
              "      <td>AGGRAVATED: HANDGUN</td>\n",
              "      <td>STREET</td>\n",
              "      <td>False</td>\n",
              "      <td>False</td>\n",
              "    </tr>\n",
              "    <tr>\n",
              "      <th>2012-10-15 11:15:00</th>\n",
              "      <td>2012-10-15 11:15:00</td>\n",
              "      <td>079XX S DREXEL AVE</td>\n",
              "      <td>BURGLARY</td>\n",
              "      <td>FORCIBLE ENTRY</td>\n",
              "      <td>APARTMENT</td>\n",
              "      <td>False</td>\n",
              "      <td>False</td>\n",
              "    </tr>\n",
              "    <tr>\n",
              "      <th>2012-10-13 21:15:00</th>\n",
              "      <td>2012-10-13 21:15:00</td>\n",
              "      <td>108XX S WABASH AVE</td>\n",
              "      <td>CRIMINAL DAMAGE</td>\n",
              "      <td>TO VEHICLE</td>\n",
              "      <td>STREET</td>\n",
              "      <td>False</td>\n",
              "      <td>False</td>\n",
              "    </tr>\n",
              "    <tr>\n",
              "      <th>2012-10-15 21:10:00</th>\n",
              "      <td>2012-10-15 21:10:00</td>\n",
              "      <td>004XX S PULASKI RD</td>\n",
              "      <td>NARCOTICS</td>\n",
              "      <td>POSS: HEROIN(WHITE)</td>\n",
              "      <td>SIDEWALK</td>\n",
              "      <td>True</td>\n",
              "      <td>False</td>\n",
              "    </tr>\n",
              "  </tbody>\n",
              "</table>\n",
              "<p>1016647 rows × 7 columns</p>\n",
              "</div>"
            ],
            "text/plain": [
              "                                   Date                 Block  ... Arrest Domestic\n",
              "Date                                                           ...                \n",
              "2006-04-02 13:00:00 2006-04-02 13:00:00     055XX N MANGO AVE  ...  False    False\n",
              "2006-02-26 13:40:48 2006-02-26 13:40:48    065XX S RHODES AVE  ...   True    False\n",
              "2006-01-08 23:16:00 2006-01-08 23:16:00       013XX E 69TH ST  ...  False    False\n",
              "2006-04-05 18:45:00 2006-04-05 18:45:00   061XX W NEWPORT AVE  ...  False    False\n",
              "2006-02-17 21:03:14 2006-02-17 21:03:14       037XX W 60TH ST  ...   True    False\n",
              "...                                 ...                   ...  ...    ...      ...\n",
              "2012-10-14 08:00:00 2012-10-14 08:00:00  079XX S CARPENTER ST  ...  False    False\n",
              "2012-10-15 17:58:00 2012-10-15 17:58:00       026XX E 79TH ST  ...  False    False\n",
              "2012-10-15 11:15:00 2012-10-15 11:15:00    079XX S DREXEL AVE  ...  False    False\n",
              "2012-10-13 21:15:00 2012-10-13 21:15:00    108XX S WABASH AVE  ...  False    False\n",
              "2012-10-15 21:10:00 2012-10-15 21:10:00    004XX S PULASKI RD  ...   True    False\n",
              "\n",
              "[1016647 rows x 7 columns]"
            ]
          },
          "metadata": {
            "tags": []
          },
          "execution_count": 64
        }
      ]
    },
    {
      "cell_type": "code",
      "metadata": {
        "id": "F_u0_EEZvyMm"
      },
      "source": [
        "# setting the index to be the date \n",
        "chicago_df.index = pd.DatetimeIndex(chicago_df.Date)\n"
      ],
      "execution_count": null,
      "outputs": []
    },
    {
      "cell_type": "code",
      "metadata": {
        "id": "m0FPKE4kvyMo",
        "colab": {
          "base_uri": "https://localhost:8080/",
          "height": 450
        },
        "outputId": "b592e3c2-9013-4e8a-9c43-8179bddcb79d"
      },
      "source": [
        "chicago_df"
      ],
      "execution_count": null,
      "outputs": [
        {
          "output_type": "execute_result",
          "data": {
            "text/html": [
              "<div>\n",
              "<style scoped>\n",
              "    .dataframe tbody tr th:only-of-type {\n",
              "        vertical-align: middle;\n",
              "    }\n",
              "\n",
              "    .dataframe tbody tr th {\n",
              "        vertical-align: top;\n",
              "    }\n",
              "\n",
              "    .dataframe thead th {\n",
              "        text-align: right;\n",
              "    }\n",
              "</style>\n",
              "<table border=\"1\" class=\"dataframe\">\n",
              "  <thead>\n",
              "    <tr style=\"text-align: right;\">\n",
              "      <th></th>\n",
              "      <th>Date</th>\n",
              "      <th>Block</th>\n",
              "      <th>Primary Type</th>\n",
              "      <th>Description</th>\n",
              "      <th>Location Description</th>\n",
              "      <th>Arrest</th>\n",
              "      <th>Domestic</th>\n",
              "    </tr>\n",
              "    <tr>\n",
              "      <th>Date</th>\n",
              "      <th></th>\n",
              "      <th></th>\n",
              "      <th></th>\n",
              "      <th></th>\n",
              "      <th></th>\n",
              "      <th></th>\n",
              "      <th></th>\n",
              "    </tr>\n",
              "  </thead>\n",
              "  <tbody>\n",
              "    <tr>\n",
              "      <th>2006-04-02 13:00:00</th>\n",
              "      <td>2006-04-02 13:00:00</td>\n",
              "      <td>055XX N MANGO AVE</td>\n",
              "      <td>OTHER OFFENSE</td>\n",
              "      <td>HARASSMENT BY TELEPHONE</td>\n",
              "      <td>RESIDENCE</td>\n",
              "      <td>False</td>\n",
              "      <td>False</td>\n",
              "    </tr>\n",
              "    <tr>\n",
              "      <th>2006-02-26 13:40:48</th>\n",
              "      <td>2006-02-26 13:40:48</td>\n",
              "      <td>065XX S RHODES AVE</td>\n",
              "      <td>NARCOTICS</td>\n",
              "      <td>MANU/DELIVER:CRACK</td>\n",
              "      <td>SIDEWALK</td>\n",
              "      <td>True</td>\n",
              "      <td>False</td>\n",
              "    </tr>\n",
              "    <tr>\n",
              "      <th>2006-01-08 23:16:00</th>\n",
              "      <td>2006-01-08 23:16:00</td>\n",
              "      <td>013XX E 69TH ST</td>\n",
              "      <td>ASSAULT</td>\n",
              "      <td>AGGRAVATED: HANDGUN</td>\n",
              "      <td>OTHER</td>\n",
              "      <td>False</td>\n",
              "      <td>False</td>\n",
              "    </tr>\n",
              "    <tr>\n",
              "      <th>2006-04-05 18:45:00</th>\n",
              "      <td>2006-04-05 18:45:00</td>\n",
              "      <td>061XX W NEWPORT AVE</td>\n",
              "      <td>BATTERY</td>\n",
              "      <td>SIMPLE</td>\n",
              "      <td>RESIDENCE</td>\n",
              "      <td>False</td>\n",
              "      <td>False</td>\n",
              "    </tr>\n",
              "    <tr>\n",
              "      <th>2006-02-17 21:03:14</th>\n",
              "      <td>2006-02-17 21:03:14</td>\n",
              "      <td>037XX W 60TH ST</td>\n",
              "      <td>NARCOTICS</td>\n",
              "      <td>POSS: CANNABIS 30GMS OR LESS</td>\n",
              "      <td>ALLEY</td>\n",
              "      <td>True</td>\n",
              "      <td>False</td>\n",
              "    </tr>\n",
              "    <tr>\n",
              "      <th>...</th>\n",
              "      <td>...</td>\n",
              "      <td>...</td>\n",
              "      <td>...</td>\n",
              "      <td>...</td>\n",
              "      <td>...</td>\n",
              "      <td>...</td>\n",
              "      <td>...</td>\n",
              "    </tr>\n",
              "    <tr>\n",
              "      <th>2012-10-14 08:00:00</th>\n",
              "      <td>2012-10-14 08:00:00</td>\n",
              "      <td>079XX S CARPENTER ST</td>\n",
              "      <td>CRIMINAL DAMAGE</td>\n",
              "      <td>TO PROPERTY</td>\n",
              "      <td>APARTMENT</td>\n",
              "      <td>False</td>\n",
              "      <td>False</td>\n",
              "    </tr>\n",
              "    <tr>\n",
              "      <th>2012-10-15 17:58:00</th>\n",
              "      <td>2012-10-15 17:58:00</td>\n",
              "      <td>026XX E 79TH ST</td>\n",
              "      <td>BATTERY</td>\n",
              "      <td>AGGRAVATED: HANDGUN</td>\n",
              "      <td>STREET</td>\n",
              "      <td>False</td>\n",
              "      <td>False</td>\n",
              "    </tr>\n",
              "    <tr>\n",
              "      <th>2012-10-15 11:15:00</th>\n",
              "      <td>2012-10-15 11:15:00</td>\n",
              "      <td>079XX S DREXEL AVE</td>\n",
              "      <td>BURGLARY</td>\n",
              "      <td>FORCIBLE ENTRY</td>\n",
              "      <td>APARTMENT</td>\n",
              "      <td>False</td>\n",
              "      <td>False</td>\n",
              "    </tr>\n",
              "    <tr>\n",
              "      <th>2012-10-13 21:15:00</th>\n",
              "      <td>2012-10-13 21:15:00</td>\n",
              "      <td>108XX S WABASH AVE</td>\n",
              "      <td>CRIMINAL DAMAGE</td>\n",
              "      <td>TO VEHICLE</td>\n",
              "      <td>STREET</td>\n",
              "      <td>False</td>\n",
              "      <td>False</td>\n",
              "    </tr>\n",
              "    <tr>\n",
              "      <th>2012-10-15 21:10:00</th>\n",
              "      <td>2012-10-15 21:10:00</td>\n",
              "      <td>004XX S PULASKI RD</td>\n",
              "      <td>NARCOTICS</td>\n",
              "      <td>POSS: HEROIN(WHITE)</td>\n",
              "      <td>SIDEWALK</td>\n",
              "      <td>True</td>\n",
              "      <td>False</td>\n",
              "    </tr>\n",
              "  </tbody>\n",
              "</table>\n",
              "<p>1016647 rows × 7 columns</p>\n",
              "</div>"
            ],
            "text/plain": [
              "                                   Date                 Block  ... Arrest Domestic\n",
              "Date                                                           ...                \n",
              "2006-04-02 13:00:00 2006-04-02 13:00:00     055XX N MANGO AVE  ...  False    False\n",
              "2006-02-26 13:40:48 2006-02-26 13:40:48    065XX S RHODES AVE  ...   True    False\n",
              "2006-01-08 23:16:00 2006-01-08 23:16:00       013XX E 69TH ST  ...  False    False\n",
              "2006-04-05 18:45:00 2006-04-05 18:45:00   061XX W NEWPORT AVE  ...  False    False\n",
              "2006-02-17 21:03:14 2006-02-17 21:03:14       037XX W 60TH ST  ...   True    False\n",
              "...                                 ...                   ...  ...    ...      ...\n",
              "2012-10-14 08:00:00 2012-10-14 08:00:00  079XX S CARPENTER ST  ...  False    False\n",
              "2012-10-15 17:58:00 2012-10-15 17:58:00       026XX E 79TH ST  ...  False    False\n",
              "2012-10-15 11:15:00 2012-10-15 11:15:00    079XX S DREXEL AVE  ...  False    False\n",
              "2012-10-13 21:15:00 2012-10-13 21:15:00    108XX S WABASH AVE  ...  False    False\n",
              "2012-10-15 21:10:00 2012-10-15 21:10:00    004XX S PULASKI RD  ...   True    False\n",
              "\n",
              "[1016647 rows x 7 columns]"
            ]
          },
          "metadata": {
            "tags": []
          },
          "execution_count": 34
        }
      ]
    },
    {
      "cell_type": "code",
      "metadata": {
        "id": "HCQ7NhA1vyMp",
        "outputId": "16125cab-a382-476d-b590-f0c000433d99"
      },
      "source": [
        "chicago_df['Primary Type'].value_counts() #we are seeing the value counts "
      ],
      "execution_count": null,
      "outputs": [
        {
          "output_type": "execute_result",
          "data": {
            "text/plain": [
              "THEFT                                1245111\n",
              "BATTERY                              1079178\n",
              "CRIMINAL DAMAGE                       702702\n",
              "NARCOTICS                             674831\n",
              "BURGLARY                              369056\n",
              "OTHER OFFENSE                         368169\n",
              "ASSAULT                               360244\n",
              "MOTOR VEHICLE THEFT                   271624\n",
              "ROBBERY                               229467\n",
              "DECEPTIVE PRACTICE                    225180\n",
              "CRIMINAL TRESPASS                     171596\n",
              "PROSTITUTION                           60735\n",
              "WEAPONS VIOLATION                      60335\n",
              "PUBLIC PEACE VIOLATION                 48403\n",
              "OFFENSE INVOLVING CHILDREN             40260\n",
              "CRIM SEXUAL ASSAULT                    22789\n",
              "SEX OFFENSE                            20172\n",
              "GAMBLING                               14755\n",
              "INTERFERENCE WITH PUBLIC OFFICER       14009\n",
              "LIQUOR LAW VIOLATION                   12129\n",
              "ARSON                                   9269\n",
              "HOMICIDE                                5879\n",
              "KIDNAPPING                              4734\n",
              "INTIMIDATION                            3324\n",
              "STALKING                                2866\n",
              "OBSCENITY                                422\n",
              "PUBLIC INDECENCY                         134\n",
              "OTHER NARCOTIC VIOLATION                 122\n",
              "NON-CRIMINAL                              96\n",
              "CONCEALED CARRY LICENSE VIOLATION         90\n",
              "NON - CRIMINAL                            38\n",
              "HUMAN TRAFFICKING                         28\n",
              "RITUALISM                                 16\n",
              "NON-CRIMINAL (SUBJECT SPECIFIED)           4\n",
              "Name: Primary Type, dtype: int64"
            ]
          },
          "metadata": {
            "tags": []
          },
          "execution_count": 13
        }
      ]
    },
    {
      "cell_type": "code",
      "metadata": {
        "id": "fwjEbCP9vyMq",
        "colab": {
          "base_uri": "https://localhost:8080/"
        },
        "outputId": "cb2d0351-784f-4458-fca5-e596c7d1e00d"
      },
      "source": [
        "chicago_df['Primary Type'].value_counts().iloc[:15]"
      ],
      "execution_count": null,
      "outputs": [
        {
          "output_type": "execute_result",
          "data": {
            "text/plain": [
              "THEFT                         210227\n",
              "BATTERY                       186725\n",
              "CRIMINAL DAMAGE               121454\n",
              "NARCOTICS                     110905\n",
              "ASSAULT                        62264\n",
              "OTHER OFFENSE                  60313\n",
              "BURGLARY                       60034\n",
              "MOTOR VEHICLE THEFT            47009\n",
              "ROBBERY                        38197\n",
              "DECEPTIVE PRACTICE             36535\n",
              "CRIMINAL TRESPASS              28739\n",
              "PROSTITUTION                   10816\n",
              "WEAPONS VIOLATION              10211\n",
              "PUBLIC PEACE VIOLATION          7905\n",
              "OFFENSE INVOLVING CHILDREN      6569\n",
              "Name: Primary Type, dtype: int64"
            ]
          },
          "metadata": {
            "tags": []
          },
          "execution_count": 35
        }
      ]
    },
    {
      "cell_type": "code",
      "metadata": {
        "id": "aBAG-zLXvyMs"
      },
      "source": [
        "order_data=chicago_df['Primary Type'].value_counts().iloc[:15].index"
      ],
      "execution_count": null,
      "outputs": []
    },
    {
      "cell_type": "code",
      "metadata": {
        "id": "srXXHiWpvyMt",
        "colab": {
          "base_uri": "https://localhost:8080/",
          "height": 623
        },
        "outputId": "f3410de6-ed85-4013-d5d3-1717cb502086"
      },
      "source": [
        "plt.figure(figsize=(15,10))\n",
        "sns.countplot(y='Primary Type',data=chicago_df,order=order_data)"
      ],
      "execution_count": null,
      "outputs": [
        {
          "output_type": "execute_result",
          "data": {
            "text/plain": [
              "<matplotlib.axes._subplots.AxesSubplot at 0x7f85c18c7c18>"
            ]
          },
          "metadata": {
            "tags": []
          },
          "execution_count": 38
        },
        {
          "output_type": "display_data",
          "data": {
            "image/png": "[encoded data removed]",
            "text/plain": [
              "<Figure size 1080x720 with 1 Axes>"
            ]
          },
          "metadata": {
            "tags": [],
            "needs_background": "light"
          }
        }
      ]
    },
    {
      "cell_type": "code",
      "metadata": {
        "id": "-5aOOPz4vyMu",
        "colab": {
          "base_uri": "https://localhost:8080/",
          "height": 623
        },
        "outputId": "d6739f18-1508-43bb-f3b9-774cd788a946"
      },
      "source": [
        "plt.figure(figsize = (15, 10))\n",
        "sns.countplot(y= 'Location Description', data = chicago_df, order = chicago_df['Location Description'].value_counts().iloc[:15].index)"
      ],
      "execution_count": null,
      "outputs": [
        {
          "output_type": "execute_result",
          "data": {
            "text/plain": [
              "<matplotlib.axes._subplots.AxesSubplot at 0x7f85c1697d68>"
            ]
          },
          "metadata": {
            "tags": []
          },
          "execution_count": 39
        },
        {
          "output_type": "display_data",
          "data": {
            "image/png": "[encoded data removed]",
            "text/plain": [
              "<Figure size 1080x720 with 1 Axes>"
            ]
          },
          "metadata": {
            "tags": [],
            "needs_background": "light"
          }
        }
      ]
    },
    {
      "cell_type": "code",
      "metadata": {
        "id": "5PzwJO5wvyMv",
        "colab": {
          "base_uri": "https://localhost:8080/"
        },
        "outputId": "8778908c-339e-40d8-8765-e9aa2055e6e4"
      },
      "source": [
        "#we want to count how many of these crimes occur on a yearly basis\r\n",
        "chicago_df.resample('Y').size()"
      ],
      "execution_count": null,
      "outputs": [
        {
          "output_type": "execute_result",
          "data": {
            "text/plain": [
              "Date\n",
              "2005-12-31      1859\n",
              "2006-12-31    328782\n",
              "2007-12-31      3419\n",
              "2008-12-31    332538\n",
              "2009-12-31      6222\n",
              "2010-12-31      1493\n",
              "2011-12-31       535\n",
              "2012-12-31    265208\n",
              "2013-12-31      1946\n",
              "2014-12-31      4151\n",
              "2015-12-31     47454\n",
              "2016-12-31     23040\n",
              "Freq: A-DEC, dtype: int64"
            ]
          },
          "metadata": {
            "tags": []
          },
          "execution_count": 41
        }
      ]
    },
    {
      "cell_type": "code",
      "metadata": {
        "id": "i0G8bbnivyMw",
        "colab": {
          "base_uri": "https://localhost:8080/",
          "height": 312
        },
        "outputId": "100170e8-f900-4ca1-f483-925785ec208f"
      },
      "source": [
        "# Resample is a Convenience method for frequency conversion and resampling of time series.\n",
        "\n",
        "plt.plot(chicago_df.resample('Y').size())\n",
        "plt.title('Crimes Count Per Year')\n",
        "plt.xlabel('Years')\n",
        "plt.ylabel('Number of Crimes')"
      ],
      "execution_count": null,
      "outputs": [
        {
          "output_type": "execute_result",
          "data": {
            "text/plain": [
              "Text(0, 0.5, 'Number of Crimes')"
            ]
          },
          "metadata": {
            "tags": []
          },
          "execution_count": 42
        },
        {
          "output_type": "display_data",
          "data": {
            "image/png": "[encoded data removed]",
            "text/plain": [
              "<Figure size 432x288 with 1 Axes>"
            ]
          },
          "metadata": {
            "tags": [],
            "needs_background": "light"
          }
        }
      ]
    },
    {
      "cell_type": "code",
      "metadata": {
        "id": "AMNRJEQAvyMx",
        "outputId": "9aa91792-a24d-4779-ee06-d87a16299f95"
      },
      "source": [
        "chicago_df.resample('M').size()#crimes count per month"
      ],
      "execution_count": null,
      "outputs": [
        {
          "output_type": "execute_result",
          "data": {
            "text/plain": [
              "Date\n",
              "2005-01-31    33983\n",
              "2005-02-28    32042\n",
              "2005-03-31    36970\n",
              "2005-04-30    38963\n",
              "2005-05-31    40572\n",
              "2005-06-30    40234\n",
              "2005-07-31    41976\n",
              "2005-08-31    41741\n",
              "2005-09-30    39833\n",
              "2005-10-31    40204\n",
              "2005-11-30    36244\n",
              "2005-12-31    33049\n",
              "2006-01-31    37605\n",
              "2006-02-28    34063\n",
              "2006-03-31    43721\n",
              "2006-04-30    69128\n",
              "2006-05-31    79013\n",
              "2006-06-30    77348\n",
              "2006-07-31    82750\n",
              "2006-08-31    80628\n",
              "2006-09-30    75045\n",
              "2006-10-31    76870\n",
              "2006-11-30    70710\n",
              "2006-12-31    67803\n",
              "2007-01-31    67123\n",
              "2007-02-28    53811\n",
              "2007-03-31    71857\n",
              "2007-04-30    70389\n",
              "2007-05-31    78170\n",
              "2007-06-30    55802\n",
              "              ...  \n",
              "2014-08-31    25802\n",
              "2014-09-30    23811\n",
              "2014-10-31    23911\n",
              "2014-11-30    20680\n",
              "2014-12-31    20891\n",
              "2015-01-31    20656\n",
              "2015-02-28    16287\n",
              "2015-03-31    21560\n",
              "2015-04-30    21610\n",
              "2015-05-31    23570\n",
              "2015-06-30    23059\n",
              "2015-07-31    24101\n",
              "2015-08-31    24685\n",
              "2015-09-30    22996\n",
              "2015-10-31    22979\n",
              "2015-11-30    20486\n",
              "2015-12-31    21006\n",
              "2016-01-31    20375\n",
              "2016-02-29    18590\n",
              "2016-03-31    21878\n",
              "2016-04-30    20962\n",
              "2016-05-31    23332\n",
              "2016-06-30    23791\n",
              "2016-07-31    24646\n",
              "2016-08-31    24619\n",
              "2016-09-30    23235\n",
              "2016-10-31    23314\n",
              "2016-11-30    21140\n",
              "2016-12-31    19580\n",
              "2017-01-31    11357\n",
              "Freq: M, Length: 145, dtype: int64"
            ]
          },
          "metadata": {
            "tags": []
          },
          "execution_count": 20
        }
      ]
    },
    {
      "cell_type": "code",
      "metadata": {
        "id": "rOZEylpavyMz",
        "colab": {
          "base_uri": "https://localhost:8080/",
          "height": 312
        },
        "outputId": "67115dc3-c5cf-4ae9-c53b-a189b1c244bf"
      },
      "source": [
        "# Resample is a Convenience method for frequency conversion and resampling of time series.\n",
        "\n",
        "plt.plot(chicago_df.resample('M').size())\n",
        "plt.title('Crimes Count Per Month')\n",
        "plt.xlabel('Months')\n",
        "plt.ylabel('Number of Crimes')"
      ],
      "execution_count": null,
      "outputs": [
        {
          "output_type": "execute_result",
          "data": {
            "text/plain": [
              "Text(0, 0.5, 'Number of Crimes')"
            ]
          },
          "metadata": {
            "tags": []
          },
          "execution_count": 43
        },
        {
          "output_type": "display_data",
          "data": {
            "image/png": "[encoded data removed]",
            "text/plain": [
              "<Figure size 432x288 with 1 Axes>"
            ]
          },
          "metadata": {
            "tags": [],
            "needs_background": "light"
          }
        }
      ]
    },
    {
      "cell_type": "code",
      "metadata": {
        "id": "IZ4F5-EdvyM0",
        "outputId": "eb8810d3-6c9e-45db-baf7-b13080c1aed4"
      },
      "source": [
        "chicago_df.resample('Q').size()#crimes count per quarter"
      ],
      "execution_count": null,
      "outputs": [
        {
          "output_type": "execute_result",
          "data": {
            "text/plain": [
              "Date\n",
              "2005-03-31    102995\n",
              "2005-06-30    119769\n",
              "2005-09-30    123550\n",
              "2005-12-31    109497\n",
              "2006-03-31    115389\n",
              "2006-06-30    225489\n",
              "2006-09-30    238423\n",
              "2006-12-31    215383\n",
              "2007-03-31    192791\n",
              "2007-06-30    204361\n",
              "2007-09-30    119086\n",
              "2007-12-31    105610\n",
              "2008-03-31    191523\n",
              "2008-06-30    222331\n",
              "2008-09-30    236695\n",
              "2008-12-31    201504\n",
              "2009-03-31    184055\n",
              "2009-06-30    203916\n",
              "2009-09-30    210446\n",
              "2009-12-31    185483\n",
              "2010-03-31    171848\n",
              "2010-06-30    194453\n",
              "2010-09-30    197116\n",
              "2010-12-31    137274\n",
              "2011-03-31     78167\n",
              "2011-06-30     93064\n",
              "2011-09-30     95835\n",
              "2011-12-31     85000\n",
              "2012-03-31     78574\n",
              "2012-06-30     88283\n",
              "2012-09-30     89685\n",
              "2012-12-31     79128\n",
              "2013-03-31     71651\n",
              "2013-06-30     80776\n",
              "2013-09-30     83510\n",
              "2013-12-31     70766\n",
              "2014-03-31     59964\n",
              "2014-06-30     72991\n",
              "2014-09-30     76090\n",
              "2014-12-31     65482\n",
              "2015-03-31     58503\n",
              "2015-06-30     68239\n",
              "2015-09-30     71782\n",
              "2015-12-31     64471\n",
              "2016-03-31     60843\n",
              "2016-06-30     68085\n",
              "2016-09-30     72500\n",
              "2016-12-31     64034\n",
              "2017-03-31     11357\n",
              "Freq: Q-DEC, dtype: int64"
            ]
          },
          "metadata": {
            "tags": []
          },
          "execution_count": 22
        }
      ]
    },
    {
      "cell_type": "code",
      "metadata": {
        "id": "ekLpUstOvyM2",
        "outputId": "88eba1c5-43e0-4e4a-86a6-2f37ea0b3505"
      },
      "source": [
        "# Resample is a Convenience method for frequency conversion and resampling of time series.\n",
        "\n",
        "plt.plot(chicago_df.resample('Q').size())\n",
        "plt.title('Crimes Count Per Quarter')\n",
        "plt.xlabel('Quarters')\n",
        "plt.ylabel('Number of Crimes')"
      ],
      "execution_count": null,
      "outputs": [
        {
          "output_type": "execute_result",
          "data": {
            "text/plain": [
              "Text(0,0.5,'Number of Crimes')"
            ]
          },
          "metadata": {
            "tags": []
          },
          "execution_count": 23
        },
        {
          "output_type": "display_data",
          "data": {
            "image/png": "[encoded data removed]",
            "text/plain": [
              "<Figure size 432x288 with 1 Axes>"
            ]
          },
          "metadata": {
            "tags": []
          }
        }
      ]
    },
    {
      "cell_type": "markdown",
      "metadata": {
        "id": "fNb-b6BovyM_"
      },
      "source": [
        "# STEP #3: PREPARING THE DATA"
      ]
    },
    {
      "cell_type": "code",
      "metadata": {
        "id": "hBSNDqAAvyNA"
      },
      "source": [
        "chicago_prophet = chicago_df.resample('M').size().reset_index()"
      ],
      "execution_count": null,
      "outputs": []
    },
    {
      "cell_type": "code",
      "metadata": {
        "id": "Qn85W7DRvyNA",
        "colab": {
          "base_uri": "https://localhost:8080/",
          "height": 419
        },
        "outputId": "4ff1cc5b-0079-40d0-a773-bbd1a8e668fe"
      },
      "source": [
        "chicago_prophet"
      ],
      "execution_count": null,
      "outputs": [
        {
          "output_type": "execute_result",
          "data": {
            "text/html": [
              "<div>\n",
              "<style scoped>\n",
              "    .dataframe tbody tr th:only-of-type {\n",
              "        vertical-align: middle;\n",
              "    }\n",
              "\n",
              "    .dataframe tbody tr th {\n",
              "        vertical-align: top;\n",
              "    }\n",
              "\n",
              "    .dataframe thead th {\n",
              "        text-align: right;\n",
              "    }\n",
              "</style>\n",
              "<table border=\"1\" class=\"dataframe\">\n",
              "  <thead>\n",
              "    <tr style=\"text-align: right;\">\n",
              "      <th></th>\n",
              "      <th>Date</th>\n",
              "      <th>0</th>\n",
              "    </tr>\n",
              "  </thead>\n",
              "  <tbody>\n",
              "    <tr>\n",
              "      <th>0</th>\n",
              "      <td>2005-01-31</td>\n",
              "      <td>102</td>\n",
              "    </tr>\n",
              "    <tr>\n",
              "      <th>1</th>\n",
              "      <td>2005-02-28</td>\n",
              "      <td>50</td>\n",
              "    </tr>\n",
              "    <tr>\n",
              "      <th>2</th>\n",
              "      <td>2005-03-31</td>\n",
              "      <td>54</td>\n",
              "    </tr>\n",
              "    <tr>\n",
              "      <th>3</th>\n",
              "      <td>2005-04-30</td>\n",
              "      <td>80</td>\n",
              "    </tr>\n",
              "    <tr>\n",
              "      <th>4</th>\n",
              "      <td>2005-05-31</td>\n",
              "      <td>95</td>\n",
              "    </tr>\n",
              "    <tr>\n",
              "      <th>...</th>\n",
              "      <td>...</td>\n",
              "      <td>...</td>\n",
              "    </tr>\n",
              "    <tr>\n",
              "      <th>132</th>\n",
              "      <td>2016-01-31</td>\n",
              "      <td>809</td>\n",
              "    </tr>\n",
              "    <tr>\n",
              "      <th>133</th>\n",
              "      <td>2016-02-29</td>\n",
              "      <td>123</td>\n",
              "    </tr>\n",
              "    <tr>\n",
              "      <th>134</th>\n",
              "      <td>2016-03-31</td>\n",
              "      <td>213</td>\n",
              "    </tr>\n",
              "    <tr>\n",
              "      <th>135</th>\n",
              "      <td>2016-04-30</td>\n",
              "      <td>1663</td>\n",
              "    </tr>\n",
              "    <tr>\n",
              "      <th>136</th>\n",
              "      <td>2016-05-31</td>\n",
              "      <td>20232</td>\n",
              "    </tr>\n",
              "  </tbody>\n",
              "</table>\n",
              "<p>137 rows × 2 columns</p>\n",
              "</div>"
            ],
            "text/plain": [
              "          Date      0\n",
              "0   2005-01-31    102\n",
              "1   2005-02-28     50\n",
              "2   2005-03-31     54\n",
              "3   2005-04-30     80\n",
              "4   2005-05-31     95\n",
              "..         ...    ...\n",
              "132 2016-01-31    809\n",
              "133 2016-02-29    123\n",
              "134 2016-03-31    213\n",
              "135 2016-04-30   1663\n",
              "136 2016-05-31  20232\n",
              "\n",
              "[137 rows x 2 columns]"
            ]
          },
          "metadata": {
            "tags": []
          },
          "execution_count": 45
        }
      ]
    },
    {
      "cell_type": "code",
      "metadata": {
        "id": "KF6w6vg2vyNB"
      },
      "source": [
        "chicago_prophet.columns = ['Date', 'Crime Count']"
      ],
      "execution_count": null,
      "outputs": []
    },
    {
      "cell_type": "code",
      "metadata": {
        "id": "PeBr7GhWvyNC",
        "colab": {
          "base_uri": "https://localhost:8080/",
          "height": 419
        },
        "outputId": "04816588-a3cd-481b-c4e1-7f58fc939e4d"
      },
      "source": [
        "chicago_prophet"
      ],
      "execution_count": null,
      "outputs": [
        {
          "output_type": "execute_result",
          "data": {
            "text/html": [
              "<div>\n",
              "<style scoped>\n",
              "    .dataframe tbody tr th:only-of-type {\n",
              "        vertical-align: middle;\n",
              "    }\n",
              "\n",
              "    .dataframe tbody tr th {\n",
              "        vertical-align: top;\n",
              "    }\n",
              "\n",
              "    .dataframe thead th {\n",
              "        text-align: right;\n",
              "    }\n",
              "</style>\n",
              "<table border=\"1\" class=\"dataframe\">\n",
              "  <thead>\n",
              "    <tr style=\"text-align: right;\">\n",
              "      <th></th>\n",
              "      <th>Date</th>\n",
              "      <th>Crime Count</th>\n",
              "    </tr>\n",
              "  </thead>\n",
              "  <tbody>\n",
              "    <tr>\n",
              "      <th>0</th>\n",
              "      <td>2005-01-31</td>\n",
              "      <td>102</td>\n",
              "    </tr>\n",
              "    <tr>\n",
              "      <th>1</th>\n",
              "      <td>2005-02-28</td>\n",
              "      <td>50</td>\n",
              "    </tr>\n",
              "    <tr>\n",
              "      <th>2</th>\n",
              "      <td>2005-03-31</td>\n",
              "      <td>54</td>\n",
              "    </tr>\n",
              "    <tr>\n",
              "      <th>3</th>\n",
              "      <td>2005-04-30</td>\n",
              "      <td>80</td>\n",
              "    </tr>\n",
              "    <tr>\n",
              "      <th>4</th>\n",
              "      <td>2005-05-31</td>\n",
              "      <td>95</td>\n",
              "    </tr>\n",
              "    <tr>\n",
              "      <th>...</th>\n",
              "      <td>...</td>\n",
              "      <td>...</td>\n",
              "    </tr>\n",
              "    <tr>\n",
              "      <th>132</th>\n",
              "      <td>2016-01-31</td>\n",
              "      <td>809</td>\n",
              "    </tr>\n",
              "    <tr>\n",
              "      <th>133</th>\n",
              "      <td>2016-02-29</td>\n",
              "      <td>123</td>\n",
              "    </tr>\n",
              "    <tr>\n",
              "      <th>134</th>\n",
              "      <td>2016-03-31</td>\n",
              "      <td>213</td>\n",
              "    </tr>\n",
              "    <tr>\n",
              "      <th>135</th>\n",
              "      <td>2016-04-30</td>\n",
              "      <td>1663</td>\n",
              "    </tr>\n",
              "    <tr>\n",
              "      <th>136</th>\n",
              "      <td>2016-05-31</td>\n",
              "      <td>20232</td>\n",
              "    </tr>\n",
              "  </tbody>\n",
              "</table>\n",
              "<p>137 rows × 2 columns</p>\n",
              "</div>"
            ],
            "text/plain": [
              "          Date  Crime Count\n",
              "0   2005-01-31          102\n",
              "1   2005-02-28           50\n",
              "2   2005-03-31           54\n",
              "3   2005-04-30           80\n",
              "4   2005-05-31           95\n",
              "..         ...          ...\n",
              "132 2016-01-31          809\n",
              "133 2016-02-29          123\n",
              "134 2016-03-31          213\n",
              "135 2016-04-30         1663\n",
              "136 2016-05-31        20232\n",
              "\n",
              "[137 rows x 2 columns]"
            ]
          },
          "metadata": {
            "tags": []
          },
          "execution_count": 47
        }
      ]
    },
    {
      "cell_type": "code",
      "metadata": {
        "id": "f2_X-UWevyNC"
      },
      "source": [
        "chicago_prophet_df = pd.DataFrame(chicago_prophet)"
      ],
      "execution_count": null,
      "outputs": []
    },
    {
      "cell_type": "code",
      "metadata": {
        "id": "eD_VB3bhvyND",
        "colab": {
          "base_uri": "https://localhost:8080/",
          "height": 419
        },
        "outputId": "b86093b1-eb5b-41d1-afe7-3801a9e2fbfb"
      },
      "source": [
        "chicago_prophet_df"
      ],
      "execution_count": null,
      "outputs": [
        {
          "output_type": "execute_result",
          "data": {
            "text/html": [
              "<div>\n",
              "<style scoped>\n",
              "    .dataframe tbody tr th:only-of-type {\n",
              "        vertical-align: middle;\n",
              "    }\n",
              "\n",
              "    .dataframe tbody tr th {\n",
              "        vertical-align: top;\n",
              "    }\n",
              "\n",
              "    .dataframe thead th {\n",
              "        text-align: right;\n",
              "    }\n",
              "</style>\n",
              "<table border=\"1\" class=\"dataframe\">\n",
              "  <thead>\n",
              "    <tr style=\"text-align: right;\">\n",
              "      <th></th>\n",
              "      <th>Date</th>\n",
              "      <th>Crime Count</th>\n",
              "    </tr>\n",
              "  </thead>\n",
              "  <tbody>\n",
              "    <tr>\n",
              "      <th>0</th>\n",
              "      <td>2005-01-31</td>\n",
              "      <td>102</td>\n",
              "    </tr>\n",
              "    <tr>\n",
              "      <th>1</th>\n",
              "      <td>2005-02-28</td>\n",
              "      <td>50</td>\n",
              "    </tr>\n",
              "    <tr>\n",
              "      <th>2</th>\n",
              "      <td>2005-03-31</td>\n",
              "      <td>54</td>\n",
              "    </tr>\n",
              "    <tr>\n",
              "      <th>3</th>\n",
              "      <td>2005-04-30</td>\n",
              "      <td>80</td>\n",
              "    </tr>\n",
              "    <tr>\n",
              "      <th>4</th>\n",
              "      <td>2005-05-31</td>\n",
              "      <td>95</td>\n",
              "    </tr>\n",
              "    <tr>\n",
              "      <th>...</th>\n",
              "      <td>...</td>\n",
              "      <td>...</td>\n",
              "    </tr>\n",
              "    <tr>\n",
              "      <th>132</th>\n",
              "      <td>2016-01-31</td>\n",
              "      <td>809</td>\n",
              "    </tr>\n",
              "    <tr>\n",
              "      <th>133</th>\n",
              "      <td>2016-02-29</td>\n",
              "      <td>123</td>\n",
              "    </tr>\n",
              "    <tr>\n",
              "      <th>134</th>\n",
              "      <td>2016-03-31</td>\n",
              "      <td>213</td>\n",
              "    </tr>\n",
              "    <tr>\n",
              "      <th>135</th>\n",
              "      <td>2016-04-30</td>\n",
              "      <td>1663</td>\n",
              "    </tr>\n",
              "    <tr>\n",
              "      <th>136</th>\n",
              "      <td>2016-05-31</td>\n",
              "      <td>20232</td>\n",
              "    </tr>\n",
              "  </tbody>\n",
              "</table>\n",
              "<p>137 rows × 2 columns</p>\n",
              "</div>"
            ],
            "text/plain": [
              "          Date  Crime Count\n",
              "0   2005-01-31          102\n",
              "1   2005-02-28           50\n",
              "2   2005-03-31           54\n",
              "3   2005-04-30           80\n",
              "4   2005-05-31           95\n",
              "..         ...          ...\n",
              "132 2016-01-31          809\n",
              "133 2016-02-29          123\n",
              "134 2016-03-31          213\n",
              "135 2016-04-30         1663\n",
              "136 2016-05-31        20232\n",
              "\n",
              "[137 rows x 2 columns]"
            ]
          },
          "metadata": {
            "tags": []
          },
          "execution_count": 50
        }
      ]
    },
    {
      "cell_type": "markdown",
      "metadata": {
        "id": "CSjkQkJovyNE"
      },
      "source": [
        "# STEP #4: MAKE PREDICTIONS"
      ]
    },
    {
      "cell_type": "code",
      "metadata": {
        "id": "Z8J4RdBPvyNE",
        "colab": {
          "base_uri": "https://localhost:8080/"
        },
        "outputId": "510491e0-76c3-424c-c1ba-8f3a92edadb6"
      },
      "source": [
        "chicago_prophet_df.columns"
      ],
      "execution_count": null,
      "outputs": [
        {
          "output_type": "execute_result",
          "data": {
            "text/plain": [
              "Index(['Date', 'Crime Count'], dtype='object')"
            ]
          },
          "metadata": {
            "tags": []
          },
          "execution_count": 51
        }
      ]
    },
    {
      "cell_type": "code",
      "metadata": {
        "id": "RkiWT0jdvyNF"
      },
      "source": [
        "chicago_prophet_df_final = chicago_prophet_df.rename(columns={'Date':'ds','Crime Count':'y'})"
      ],
      "execution_count": null,
      "outputs": []
    },
    {
      "cell_type": "code",
      "metadata": {
        "id": "lXDs-jXJvyNG",
        "colab": {
          "base_uri": "https://localhost:8080/",
          "height": 419
        },
        "outputId": "1097ba5a-c90e-402a-d9fe-68ce8964647c"
      },
      "source": [
        "chicago_prophet_df_final"
      ],
      "execution_count": null,
      "outputs": [
        {
          "output_type": "execute_result",
          "data": {
            "text/html": [
              "<div>\n",
              "<style scoped>\n",
              "    .dataframe tbody tr th:only-of-type {\n",
              "        vertical-align: middle;\n",
              "    }\n",
              "\n",
              "    .dataframe tbody tr th {\n",
              "        vertical-align: top;\n",
              "    }\n",
              "\n",
              "    .dataframe thead th {\n",
              "        text-align: right;\n",
              "    }\n",
              "</style>\n",
              "<table border=\"1\" class=\"dataframe\">\n",
              "  <thead>\n",
              "    <tr style=\"text-align: right;\">\n",
              "      <th></th>\n",
              "      <th>ds</th>\n",
              "      <th>y</th>\n",
              "    </tr>\n",
              "  </thead>\n",
              "  <tbody>\n",
              "    <tr>\n",
              "      <th>0</th>\n",
              "      <td>2005-01-31</td>\n",
              "      <td>102</td>\n",
              "    </tr>\n",
              "    <tr>\n",
              "      <th>1</th>\n",
              "      <td>2005-02-28</td>\n",
              "      <td>50</td>\n",
              "    </tr>\n",
              "    <tr>\n",
              "      <th>2</th>\n",
              "      <td>2005-03-31</td>\n",
              "      <td>54</td>\n",
              "    </tr>\n",
              "    <tr>\n",
              "      <th>3</th>\n",
              "      <td>2005-04-30</td>\n",
              "      <td>80</td>\n",
              "    </tr>\n",
              "    <tr>\n",
              "      <th>4</th>\n",
              "      <td>2005-05-31</td>\n",
              "      <td>95</td>\n",
              "    </tr>\n",
              "    <tr>\n",
              "      <th>...</th>\n",
              "      <td>...</td>\n",
              "      <td>...</td>\n",
              "    </tr>\n",
              "    <tr>\n",
              "      <th>132</th>\n",
              "      <td>2016-01-31</td>\n",
              "      <td>809</td>\n",
              "    </tr>\n",
              "    <tr>\n",
              "      <th>133</th>\n",
              "      <td>2016-02-29</td>\n",
              "      <td>123</td>\n",
              "    </tr>\n",
              "    <tr>\n",
              "      <th>134</th>\n",
              "      <td>2016-03-31</td>\n",
              "      <td>213</td>\n",
              "    </tr>\n",
              "    <tr>\n",
              "      <th>135</th>\n",
              "      <td>2016-04-30</td>\n",
              "      <td>1663</td>\n",
              "    </tr>\n",
              "    <tr>\n",
              "      <th>136</th>\n",
              "      <td>2016-05-31</td>\n",
              "      <td>20232</td>\n",
              "    </tr>\n",
              "  </tbody>\n",
              "</table>\n",
              "<p>137 rows × 2 columns</p>\n",
              "</div>"
            ],
            "text/plain": [
              "            ds      y\n",
              "0   2005-01-31    102\n",
              "1   2005-02-28     50\n",
              "2   2005-03-31     54\n",
              "3   2005-04-30     80\n",
              "4   2005-05-31     95\n",
              "..         ...    ...\n",
              "132 2016-01-31    809\n",
              "133 2016-02-29    123\n",
              "134 2016-03-31    213\n",
              "135 2016-04-30   1663\n",
              "136 2016-05-31  20232\n",
              "\n",
              "[137 rows x 2 columns]"
            ]
          },
          "metadata": {
            "tags": []
          },
          "execution_count": 53
        }
      ]
    },
    {
      "cell_type": "code",
      "metadata": {
        "id": "obmJKMULvyNH",
        "colab": {
          "base_uri": "https://localhost:8080/"
        },
        "outputId": "bf68098d-93cd-4089-dc98-30da367557e3"
      },
      "source": [
        "m = Prophet()#instantiating the object m\n",
        "m.fit(chicago_prophet_df_final)\n"
      ],
      "execution_count": null,
      "outputs": [
        {
          "output_type": "stream",
          "text": [
            "INFO:numexpr.utils:NumExpr defaulting to 2 threads.\n",
            "INFO:fbprophet:Disabling weekly seasonality. Run prophet with weekly_seasonality=True to override this.\n",
            "INFO:fbprophet:Disabling daily seasonality. Run prophet with daily_seasonality=True to override this.\n"
          ],
          "name": "stderr"
        },
        {
          "output_type": "execute_result",
          "data": {
            "text/plain": [
              "<fbprophet.forecaster.Prophet at 0x7f85c1d3a4e0>"
            ]
          },
          "metadata": {
            "tags": []
          },
          "execution_count": 54
        }
      ]
    },
    {
      "cell_type": "code",
      "metadata": {
        "id": "KDz_mWyEvyNI"
      },
      "source": [
        "# Forcasting into the future\n",
        "future=m.make_future_dataframe(periods=730)#AFTER 2 YEARS\n",
        "forecast=m.predict(future)"
      ],
      "execution_count": null,
      "outputs": []
    },
    {
      "cell_type": "code",
      "metadata": {
        "id": "UXPXv48tvyNJ",
        "colab": {
          "base_uri": "https://localhost:8080/",
          "height": 609
        },
        "outputId": "3a745c24-94fb-4cc4-d7fb-ac91f6b1b728"
      },
      "source": [
        "forecast"
      ],
      "execution_count": null,
      "outputs": [
        {
          "output_type": "execute_result",
          "data": {
            "text/html": [
              "<div>\n",
              "<style scoped>\n",
              "    .dataframe tbody tr th:only-of-type {\n",
              "        vertical-align: middle;\n",
              "    }\n",
              "\n",
              "    .dataframe tbody tr th {\n",
              "        vertical-align: top;\n",
              "    }\n",
              "\n",
              "    .dataframe thead th {\n",
              "        text-align: right;\n",
              "    }\n",
              "</style>\n",
              "<table border=\"1\" class=\"dataframe\">\n",
              "  <thead>\n",
              "    <tr style=\"text-align: right;\">\n",
              "      <th></th>\n",
              "      <th>ds</th>\n",
              "      <th>trend</th>\n",
              "      <th>yhat_lower</th>\n",
              "      <th>yhat_upper</th>\n",
              "      <th>trend_lower</th>\n",
              "      <th>trend_upper</th>\n",
              "      <th>additive_terms</th>\n",
              "      <th>additive_terms_lower</th>\n",
              "      <th>additive_terms_upper</th>\n",
              "      <th>yearly</th>\n",
              "      <th>yearly_lower</th>\n",
              "      <th>yearly_upper</th>\n",
              "      <th>multiplicative_terms</th>\n",
              "      <th>multiplicative_terms_lower</th>\n",
              "      <th>multiplicative_terms_upper</th>\n",
              "      <th>yhat</th>\n",
              "    </tr>\n",
              "  </thead>\n",
              "  <tbody>\n",
              "    <tr>\n",
              "      <th>0</th>\n",
              "      <td>2005-01-31</td>\n",
              "      <td>10978.875177</td>\n",
              "      <td>-7013.421140</td>\n",
              "      <td>25923.515097</td>\n",
              "      <td>10978.875177</td>\n",
              "      <td>10978.875177</td>\n",
              "      <td>-881.954387</td>\n",
              "      <td>-881.954387</td>\n",
              "      <td>-881.954387</td>\n",
              "      <td>-881.954387</td>\n",
              "      <td>-881.954387</td>\n",
              "      <td>-881.954387</td>\n",
              "      <td>0.0</td>\n",
              "      <td>0.0</td>\n",
              "      <td>0.0</td>\n",
              "      <td>10096.920790</td>\n",
              "    </tr>\n",
              "    <tr>\n",
              "      <th>1</th>\n",
              "      <td>2005-02-28</td>\n",
              "      <td>10928.842094</td>\n",
              "      <td>-7042.397523</td>\n",
              "      <td>25437.540953</td>\n",
              "      <td>10928.842094</td>\n",
              "      <td>10928.842094</td>\n",
              "      <td>-1488.068671</td>\n",
              "      <td>-1488.068671</td>\n",
              "      <td>-1488.068671</td>\n",
              "      <td>-1488.068671</td>\n",
              "      <td>-1488.068671</td>\n",
              "      <td>-1488.068671</td>\n",
              "      <td>0.0</td>\n",
              "      <td>0.0</td>\n",
              "      <td>0.0</td>\n",
              "      <td>9440.773423</td>\n",
              "    </tr>\n",
              "    <tr>\n",
              "      <th>2</th>\n",
              "      <td>2005-03-31</td>\n",
              "      <td>10873.448323</td>\n",
              "      <td>-7770.658984</td>\n",
              "      <td>26454.326369</td>\n",
              "      <td>10873.448323</td>\n",
              "      <td>10873.448323</td>\n",
              "      <td>-803.705140</td>\n",
              "      <td>-803.705140</td>\n",
              "      <td>-803.705140</td>\n",
              "      <td>-803.705140</td>\n",
              "      <td>-803.705140</td>\n",
              "      <td>-803.705140</td>\n",
              "      <td>0.0</td>\n",
              "      <td>0.0</td>\n",
              "      <td>0.0</td>\n",
              "      <td>10069.743183</td>\n",
              "    </tr>\n",
              "    <tr>\n",
              "      <th>3</th>\n",
              "      <td>2005-04-30</td>\n",
              "      <td>10819.841448</td>\n",
              "      <td>-5794.701433</td>\n",
              "      <td>29369.454325</td>\n",
              "      <td>10819.841448</td>\n",
              "      <td>10819.841448</td>\n",
              "      <td>534.583566</td>\n",
              "      <td>534.583566</td>\n",
              "      <td>534.583566</td>\n",
              "      <td>534.583566</td>\n",
              "      <td>534.583566</td>\n",
              "      <td>534.583566</td>\n",
              "      <td>0.0</td>\n",
              "      <td>0.0</td>\n",
              "      <td>0.0</td>\n",
              "      <td>11354.425015</td>\n",
              "    </tr>\n",
              "    <tr>\n",
              "      <th>4</th>\n",
              "      <td>2005-05-31</td>\n",
              "      <td>10764.447677</td>\n",
              "      <td>-2902.242074</td>\n",
              "      <td>30461.518834</td>\n",
              "      <td>10764.447677</td>\n",
              "      <td>10764.447677</td>\n",
              "      <td>3249.653355</td>\n",
              "      <td>3249.653355</td>\n",
              "      <td>3249.653355</td>\n",
              "      <td>3249.653355</td>\n",
              "      <td>3249.653355</td>\n",
              "      <td>3249.653355</td>\n",
              "      <td>0.0</td>\n",
              "      <td>0.0</td>\n",
              "      <td>0.0</td>\n",
              "      <td>14014.101033</td>\n",
              "    </tr>\n",
              "    <tr>\n",
              "      <th>...</th>\n",
              "      <td>...</td>\n",
              "      <td>...</td>\n",
              "      <td>...</td>\n",
              "      <td>...</td>\n",
              "      <td>...</td>\n",
              "      <td>...</td>\n",
              "      <td>...</td>\n",
              "      <td>...</td>\n",
              "      <td>...</td>\n",
              "      <td>...</td>\n",
              "      <td>...</td>\n",
              "      <td>...</td>\n",
              "      <td>...</td>\n",
              "      <td>...</td>\n",
              "      <td>...</td>\n",
              "      <td>...</td>\n",
              "    </tr>\n",
              "    <tr>\n",
              "      <th>862</th>\n",
              "      <td>2018-05-27</td>\n",
              "      <td>2146.992828</td>\n",
              "      <td>-10892.795587</td>\n",
              "      <td>20212.910627</td>\n",
              "      <td>2144.765968</td>\n",
              "      <td>2148.971026</td>\n",
              "      <td>3219.881152</td>\n",
              "      <td>3219.881152</td>\n",
              "      <td>3219.881152</td>\n",
              "      <td>3219.881152</td>\n",
              "      <td>3219.881152</td>\n",
              "      <td>3219.881152</td>\n",
              "      <td>0.0</td>\n",
              "      <td>0.0</td>\n",
              "      <td>0.0</td>\n",
              "      <td>5366.873979</td>\n",
              "    </tr>\n",
              "    <tr>\n",
              "      <th>863</th>\n",
              "      <td>2018-05-28</td>\n",
              "      <td>2145.171473</td>\n",
              "      <td>-11794.581802</td>\n",
              "      <td>22073.056666</td>\n",
              "      <td>2142.940614</td>\n",
              "      <td>2147.153151</td>\n",
              "      <td>3198.677227</td>\n",
              "      <td>3198.677227</td>\n",
              "      <td>3198.677227</td>\n",
              "      <td>3198.677227</td>\n",
              "      <td>3198.677227</td>\n",
              "      <td>3198.677227</td>\n",
              "      <td>0.0</td>\n",
              "      <td>0.0</td>\n",
              "      <td>0.0</td>\n",
              "      <td>5343.848700</td>\n",
              "    </tr>\n",
              "    <tr>\n",
              "      <th>864</th>\n",
              "      <td>2018-05-29</td>\n",
              "      <td>2143.350118</td>\n",
              "      <td>-10564.078556</td>\n",
              "      <td>22163.611622</td>\n",
              "      <td>2141.115260</td>\n",
              "      <td>2145.337261</td>\n",
              "      <td>3191.579511</td>\n",
              "      <td>3191.579511</td>\n",
              "      <td>3191.579511</td>\n",
              "      <td>3191.579511</td>\n",
              "      <td>3191.579511</td>\n",
              "      <td>3191.579511</td>\n",
              "      <td>0.0</td>\n",
              "      <td>0.0</td>\n",
              "      <td>0.0</td>\n",
              "      <td>5334.929629</td>\n",
              "    </tr>\n",
              "    <tr>\n",
              "      <th>865</th>\n",
              "      <td>2018-05-30</td>\n",
              "      <td>2141.528763</td>\n",
              "      <td>-11163.626440</td>\n",
              "      <td>22379.559285</td>\n",
              "      <td>2139.289906</td>\n",
              "      <td>2143.521303</td>\n",
              "      <td>3203.170288</td>\n",
              "      <td>3203.170288</td>\n",
              "      <td>3203.170288</td>\n",
              "      <td>3203.170288</td>\n",
              "      <td>3203.170288</td>\n",
              "      <td>3203.170288</td>\n",
              "      <td>0.0</td>\n",
              "      <td>0.0</td>\n",
              "      <td>0.0</td>\n",
              "      <td>5344.699051</td>\n",
              "    </tr>\n",
              "    <tr>\n",
              "      <th>866</th>\n",
              "      <td>2018-05-31</td>\n",
              "      <td>2139.707408</td>\n",
              "      <td>-11352.048488</td>\n",
              "      <td>21678.797826</td>\n",
              "      <td>2137.464552</td>\n",
              "      <td>2141.705816</td>\n",
              "      <td>3237.257481</td>\n",
              "      <td>3237.257481</td>\n",
              "      <td>3237.257481</td>\n",
              "      <td>3237.257481</td>\n",
              "      <td>3237.257481</td>\n",
              "      <td>3237.257481</td>\n",
              "      <td>0.0</td>\n",
              "      <td>0.0</td>\n",
              "      <td>0.0</td>\n",
              "      <td>5376.964888</td>\n",
              "    </tr>\n",
              "  </tbody>\n",
              "</table>\n",
              "<p>867 rows × 16 columns</p>\n",
              "</div>"
            ],
            "text/plain": [
              "            ds         trend  ...  multiplicative_terms_upper          yhat\n",
              "0   2005-01-31  10978.875177  ...                         0.0  10096.920790\n",
              "1   2005-02-28  10928.842094  ...                         0.0   9440.773423\n",
              "2   2005-03-31  10873.448323  ...                         0.0  10069.743183\n",
              "3   2005-04-30  10819.841448  ...                         0.0  11354.425015\n",
              "4   2005-05-31  10764.447677  ...                         0.0  14014.101033\n",
              "..         ...           ...  ...                         ...           ...\n",
              "862 2018-05-27   2146.992828  ...                         0.0   5366.873979\n",
              "863 2018-05-28   2145.171473  ...                         0.0   5343.848700\n",
              "864 2018-05-29   2143.350118  ...                         0.0   5334.929629\n",
              "865 2018-05-30   2141.528763  ...                         0.0   5344.699051\n",
              "866 2018-05-31   2139.707408  ...                         0.0   5376.964888\n",
              "\n",
              "[867 rows x 16 columns]"
            ]
          },
          "metadata": {
            "tags": []
          },
          "execution_count": 60
        }
      ]
    },
    {
      "cell_type": "code",
      "metadata": {
        "id": "gMjCbKbcvyNK",
        "colab": {
          "base_uri": "https://localhost:8080/",
          "height": 441
        },
        "outputId": "30df6b7a-e76a-4606-c291-705353ce4d2d"
      },
      "source": [
        "figure = m.plot(forecast, xlabel='Date', ylabel='Crime Rate')"
      ],
      "execution_count": null,
      "outputs": [
        {
          "output_type": "display_data",
          "data": {
            "image/png": "[encoded data removed]",
            "text/plain": [
              "<Figure size 720x432 with 1 Axes>"
            ]
          },
          "metadata": {
            "tags": []
          }
        }
      ]
    },
    {
      "cell_type": "code",
      "metadata": {
        "id": "K_OCaLOSvyNL",
        "colab": {
          "base_uri": "https://localhost:8080/",
          "height": 441
        },
        "outputId": "9d586320-50c6-4126-8dfe-8bfb802cd0fe"
      },
      "source": [
        "figure3 = m.plot_components(forecast)"
      ],
      "execution_count": null,
      "outputs": [
        {
          "output_type": "display_data",
          "data": {
            "image/png": "[encoded data removed]",
            "text/plain": [
              "<Figure size 648x432 with 2 Axes>"
            ]
          },
          "metadata": {
            "tags": []
          }
        }
      ]
    }
  ]
}